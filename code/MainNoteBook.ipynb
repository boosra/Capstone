{
 "cells": [
  {
   "cell_type": "markdown",
   "metadata": {},
   "source": [
    "# Capstone: Strategies for Women in Tech to Negotiate a Salary"
   ]
  },
  {
   "cell_type": "markdown",
   "metadata": {},
   "source": [
    "Author: Najiha Boosra [Github](https://git.generalassemb.ly)  "
   ]
  },
  {
   "cell_type": "markdown",
   "metadata": {},
   "source": [
    "## Problem Statement\n",
    "There 's plenty of talk about \"women in tech\" right now.\n",
    "\n",
    "Women in Tech are a minority in the industry and don't have many tools to help them navigate the business For both new hires and seasoned industry veterans, the most challenging aspect of taking a new job is salary negotiation. \n",
    "\n",
    "If discussing what one have earned — and what one expect to earn — makes one uncomfortable. A survey from Glassdoor reports that 60 percent of woman and 48 percent of men believe salary history questions should not be asked. Women are also less likely to negotiate compensation, two out of three women (68 percent) do not negotiate pay compared to just about 52 percent of men.\n",
    "\n",
    "We at NB Recruiting help place women in rewarding tech positions. Our goal is build a regression model to help predict assesses various features like education, job types, and organization, to help a woman predict her likely salary in a new job. Also for them who want to switch their job. It’s a good idea to research the job and the employer to be sure that the compensation package is negotiable.We will use root mean squared error (RMSE) as our regression metric to evaluate the success of our models."
   ]
  },
  {
   "cell_type": "markdown",
   "metadata": {},
   "source": [
    "## Executive summary "
   ]
  },
  {
   "cell_type": "markdown",
   "metadata": {},
   "source": [
    "The objective of our study is to use regression to examine the [data.world](https://data.world/finance/data-professional-salary-survey/workspace/file?filename=2019_Data_Professional_Salary_Survey_Responses.xlsx) dataset, which includes Job title, years with this type of job,  salary, and additional benefits, gathered from women all over the world. For this study, we will limit our scope to just US working women.\n",
    "\n",
    "\n",
    "Our US-only dataset has 6893 observations. We cleaned the data replaced NaN values, checked for duplicates, and did extensive  exploratory data analysis, looking for individual columns of  importance to Salary, our target variable. Some variables were feature engineered to focus on the important aspects of this problem.\n",
    "\n",
    "Before women even think about negotiating salary, it’s important to know how much they expect to earn in their next job. If the offer isn’t close, they don’t need to take it. If they were expecting 60k, for example, and the offer is for 40k, it is probably too much of a reach. This model is designed to help women  rethink their expectations and land the right job."
   ]
  },
  {
   "cell_type": "markdown",
   "metadata": {},
   "source": [
    "## Data Dictionary "
   ]
  },
  {
   "cell_type": "markdown",
   "metadata": {},
   "source": [
    "| **Data Name**              |  **Data Type** |                          **Description**                         |\n",
    "|----------------------------|:--------------:|:----------------------------------------------------------------:|\n",
    "| Survey Year                |      int64     |                   years of 2017, 2018 and 2019                   |\n",
    "| Timestamp                  | datetime64[ns] |                             datetime                             |\n",
    "| SalaryUSD                  |     object     |                      Salary is given in USD                      |\n",
    "| Country                    |     Object     |                      Countries of the survey                     |\n",
    "| PrimaryDatabase            |     Object     |                     Tech related Job database                    |\n",
    "| YearsWithThisDatabase      |      int64     |        How many year people are working in these databases       |\n",
    "| EmploymentStatus           |     Object     |   Type of employee statuses like full time/per time and others   |\n",
    "| JobTitle                   |     Object     |         Title of the Job related to the primary database         |\n",
    "| ManageStaff                |     Object     | Title of the Job related to the Managing staff as a boolean form |\n",
    "| YearsWithThisTypeOfJob     |      int64     |         How many years people are working with these jobs        |\n",
    "| CompanyEmployeesOverall    |     Object     |               Range of total employees in companies              |\n",
    "| Education                  |     Object     |                        Level of education                        |\n",
    "| EducationIsComputerRelated |     Object     |           Education is related to computer based or not          |\n",
    "| Certifications             |     Object     |              Their certificates are valid or expired             |\n",
    "| HoursWorkedPerWeek         |      int64     |             How many hours per week they are working             |\n",
    "| LookingForAnotherJob       |     Object     |           Who are looking for new job passively or not           |\n",
    "| CareerPlansThisYear        |     Object     |              about career plan they are asked or not             |\n",
    "| Gender                     |     Object     |               Male, Female and Other gender people               |"
   ]
  },
  {
   "cell_type": "markdown",
   "metadata": {},
   "source": [
    "## Contents \n",
    " - [Loading Libraries](#Loading-Libraries). \n",
    "     - [Reading Data](#Reading-Data). \n",
    " - [Data Cleaning](#Data-Cleaning). \n",
    " - [Exploratory data analysis](#Exploratory-data-analysis)  \n",
    "      - [Feature Engineering for column Country](#Feature-Engineering-for-column-Country)  \n",
    "      - [Feature Engineering for column Gender](#Feature-Engineering-for-column-Gender)  \n",
    "      - [Conversion Dictionary for 'Education' Column](#Conversion-Dictionary-for-Education-Column)  \n",
    "      - [Feature Engineering for column ManageStaff](#Feature-Engineering-for-column-ManageStaff)\n",
    "      - [Dummy categorical features](#Dummy-categorical-features)  \n",
    "\n",
    "- [Model Preparation](#Model-Preparation)  \n",
    "     - [Train and Test Splits](#Train-and-Test-Splits)  \n",
    "     - [Data Scaling](#Data-Scaling)  \n",
    "\n",
    "- [Modeling](#Modeling)  \n",
    "     - [Baseline Model](#Baseline-Model)  \n",
    "     - [Linear Regression](#Linear-Regression)  \n",
    "     - [Ridge Regression](#Ridge-Regression)\n",
    "     - [Lasso Regression](#Lasso-Regression)  \n",
    "     - [Support Vector Regression](#Support-Vector-Regression)\n",
    "     - [Random Forest Regression](#Random-Forest-Regression)  \n",
    "     - [Decision Tree Regression](#Decision-Tree-Regression)  \n",
    "     - [Bagging Regressor](#Bagging-Regressor)  \n",
    "     - [AdaBoost Regressor Model](#AdaBoost-Regressor-Model)\n",
    "     - [Gradient Boosting Regressor Model](#Gradient-Boosting-Regressor-Model)\n",
    "\n",
    "- [Model Selection](#Model-Selection)  \n",
    "     - [Compare all Models](#Compare-all-Models)  \n",
    "\n",
    "- [Model Evaluation](#Model-Evaluation)  \n",
    "     - [Feature Importance](#Feature-Importance)  \n",
    "     - [Ploting Important features](#Ploting-Important-features). \n",
    "     \n",
    "- [Conclusions and Recommendations](#Conclusions-and-Recommendations)  \n",
    "\n",
    "- [Reference](#Reference) \n",
    " "
   ]
  },
  {
   "cell_type": "markdown",
   "metadata": {},
   "source": [
    "### Loading Libraries "
   ]
  },
  {
   "cell_type": "code",
   "execution_count": 1,
   "metadata": {
    "scrolled": true
   },
   "outputs": [],
   "source": [
    "import warnings\n",
    "warnings.filterwarnings(\"ignore\")\n",
    "\n",
    "\n",
    "\n",
    "import pandas as pd\n",
    "import numpy as np\n",
    "\n",
    "import seaborn as sns\n",
    "import matplotlib.pyplot as plt\n",
    "\n",
    "%matplotlib inline\n",
    "sns.set(color_codes = True)\n",
    "\n",
    "from sklearn.linear_model import LinearRegression, Ridge, Lasso\n",
    "from sklearn.model_selection import train_test_split, cross_val_score\n",
    "\n",
    "from sklearn.preprocessing import StandardScaler\n",
    "from sklearn.dummy import DummyRegressor\n",
    "from sklearn.neighbors import KNeighborsRegressor\n",
    "from sklearn import metrics\n",
    "from sklearn.model_selection import GridSearchCV, RandomizedSearchCV\n",
    "from sklearn.metrics import mean_squared_error\n",
    "from sklearn.svm import SVR\n",
    "from sklearn.ensemble import RandomForestRegressor, BaggingRegressor, AdaBoostRegressor, GradientBoostingRegressor\n",
    "from sklearn.tree import DecisionTreeRegressor\n",
    "\n",
    "RANDOM_STATE = 2341"
   ]
  },
  {
   "cell_type": "markdown",
   "metadata": {},
   "source": [
    "#### Reading Data"
   ]
  },
  {
   "cell_type": "code",
   "execution_count": 2,
   "metadata": {
    "scrolled": true
   },
   "outputs": [],
   "source": [
    "keep_cols = ['Survey Year', 'Timestamp', 'Country', 'PrimaryDatabase', 'YearsWithThisDatabase',\n",
    "             'EmploymentStatus', 'JobTitle','CompanyEmployeesOverall','ManageStaff', 'Education', \n",
    "             'EducationIsComputerRelated', 'Certifications', 'HoursWorkedPerWeek','SalaryUSD',\n",
    "             'LookingForAnotherJob', 'CareerPlansThisYear', 'YearsWithThisTypeOfJob', 'Gender']\n",
    "\n",
    "df = pd.read_excel(\"./datasets/2019_Data_Professional_Salary_Survey_Responses.xlsx\",\n",
    "                      skiprows= 3,usecols= keep_cols)"
   ]
  },
  {
   "cell_type": "markdown",
   "metadata": {},
   "source": [
    "sorting index"
   ]
  },
  {
   "cell_type": "code",
   "execution_count": 3,
   "metadata": {
    "scrolled": true
   },
   "outputs": [],
   "source": [
    "df.sort_index(inplace = True, ascending = True)"
   ]
  },
  {
   "cell_type": "markdown",
   "metadata": {},
   "source": [
    "Display the first 5 rows to see observations."
   ]
  },
  {
   "cell_type": "code",
   "execution_count": 4,
   "metadata": {
    "scrolled": false
   },
   "outputs": [
    {
     "data": {
      "text/html": [
       "<div>\n",
       "<style scoped>\n",
       "    .dataframe tbody tr th:only-of-type {\n",
       "        vertical-align: middle;\n",
       "    }\n",
       "\n",
       "    .dataframe tbody tr th {\n",
       "        vertical-align: top;\n",
       "    }\n",
       "\n",
       "    .dataframe thead th {\n",
       "        text-align: right;\n",
       "    }\n",
       "</style>\n",
       "<table border=\"1\" class=\"dataframe\">\n",
       "  <thead>\n",
       "    <tr style=\"text-align: right;\">\n",
       "      <th></th>\n",
       "      <th>Survey Year</th>\n",
       "      <th>Timestamp</th>\n",
       "      <th>SalaryUSD</th>\n",
       "      <th>Country</th>\n",
       "      <th>PrimaryDatabase</th>\n",
       "      <th>YearsWithThisDatabase</th>\n",
       "      <th>EmploymentStatus</th>\n",
       "      <th>JobTitle</th>\n",
       "      <th>ManageStaff</th>\n",
       "      <th>YearsWithThisTypeOfJob</th>\n",
       "      <th>CompanyEmployeesOverall</th>\n",
       "      <th>Education</th>\n",
       "      <th>EducationIsComputerRelated</th>\n",
       "      <th>Certifications</th>\n",
       "      <th>HoursWorkedPerWeek</th>\n",
       "      <th>LookingForAnotherJob</th>\n",
       "      <th>CareerPlansThisYear</th>\n",
       "      <th>Gender</th>\n",
       "    </tr>\n",
       "  </thead>\n",
       "  <tbody>\n",
       "    <tr>\n",
       "      <th>0</th>\n",
       "      <td>2017</td>\n",
       "      <td>2017-01-05 05:10:20.451</td>\n",
       "      <td>200000</td>\n",
       "      <td>United States</td>\n",
       "      <td>Microsoft SQL Server</td>\n",
       "      <td>10</td>\n",
       "      <td>Full time employee</td>\n",
       "      <td>DBA</td>\n",
       "      <td>No</td>\n",
       "      <td>5</td>\n",
       "      <td>Not Asked</td>\n",
       "      <td>Masters</td>\n",
       "      <td>No</td>\n",
       "      <td>Yes, and they're currently valid</td>\n",
       "      <td>45</td>\n",
       "      <td>Yes, but only passively (just curious)</td>\n",
       "      <td>Not Asked</td>\n",
       "      <td>Not Asked</td>\n",
       "    </tr>\n",
       "    <tr>\n",
       "      <th>1</th>\n",
       "      <td>2017</td>\n",
       "      <td>2017-01-05 05:26:23.388</td>\n",
       "      <td>61515</td>\n",
       "      <td>United Kingdom</td>\n",
       "      <td>Microsoft SQL Server</td>\n",
       "      <td>15</td>\n",
       "      <td>Full time employee</td>\n",
       "      <td>DBA</td>\n",
       "      <td>No</td>\n",
       "      <td>3</td>\n",
       "      <td>Not Asked</td>\n",
       "      <td>None (no degree completed)</td>\n",
       "      <td>NaN</td>\n",
       "      <td>No, I never have</td>\n",
       "      <td>35</td>\n",
       "      <td>No</td>\n",
       "      <td>Not Asked</td>\n",
       "      <td>Not Asked</td>\n",
       "    </tr>\n",
       "    <tr>\n",
       "      <th>2</th>\n",
       "      <td>2017</td>\n",
       "      <td>2017-01-05 05:32:57.367</td>\n",
       "      <td>95000</td>\n",
       "      <td>Germany</td>\n",
       "      <td>Microsoft SQL Server</td>\n",
       "      <td>5</td>\n",
       "      <td>Full time employee</td>\n",
       "      <td>Other</td>\n",
       "      <td>Yes</td>\n",
       "      <td>25</td>\n",
       "      <td>Not Asked</td>\n",
       "      <td>Masters</td>\n",
       "      <td>Yes</td>\n",
       "      <td>Yes, but they expired</td>\n",
       "      <td>45</td>\n",
       "      <td>Yes, but only passively (just curious)</td>\n",
       "      <td>Not Asked</td>\n",
       "      <td>Not Asked</td>\n",
       "    </tr>\n",
       "    <tr>\n",
       "      <th>3</th>\n",
       "      <td>2017</td>\n",
       "      <td>2017-01-05 05:33:03.316</td>\n",
       "      <td>56000</td>\n",
       "      <td>United Kingdom</td>\n",
       "      <td>Microsoft SQL Server</td>\n",
       "      <td>6</td>\n",
       "      <td>Full time employee</td>\n",
       "      <td>DBA</td>\n",
       "      <td>No</td>\n",
       "      <td>2</td>\n",
       "      <td>Not Asked</td>\n",
       "      <td>Associates (2 years)</td>\n",
       "      <td>No</td>\n",
       "      <td>No, I never have</td>\n",
       "      <td>40</td>\n",
       "      <td>Yes, but only passively (just curious)</td>\n",
       "      <td>Not Asked</td>\n",
       "      <td>Not Asked</td>\n",
       "    </tr>\n",
       "    <tr>\n",
       "      <th>4</th>\n",
       "      <td>2017</td>\n",
       "      <td>2017-01-05 05:34:33.866</td>\n",
       "      <td>35000</td>\n",
       "      <td>France</td>\n",
       "      <td>Microsoft SQL Server</td>\n",
       "      <td>10</td>\n",
       "      <td>Full time employee of a consulting/contracting...</td>\n",
       "      <td>DBA</td>\n",
       "      <td>No</td>\n",
       "      <td>10</td>\n",
       "      <td>Not Asked</td>\n",
       "      <td>Bachelors (4 years)</td>\n",
       "      <td>Yes</td>\n",
       "      <td>Yes, but they expired</td>\n",
       "      <td>40</td>\n",
       "      <td>Yes, but only passively (just curious)</td>\n",
       "      <td>Not Asked</td>\n",
       "      <td>Not Asked</td>\n",
       "    </tr>\n",
       "  </tbody>\n",
       "</table>\n",
       "</div>"
      ],
      "text/plain": [
       "   Survey Year               Timestamp SalaryUSD         Country  \\\n",
       "0         2017 2017-01-05 05:10:20.451    200000   United States   \n",
       "1         2017 2017-01-05 05:26:23.388     61515  United Kingdom   \n",
       "2         2017 2017-01-05 05:32:57.367     95000         Germany   \n",
       "3         2017 2017-01-05 05:33:03.316     56000  United Kingdom   \n",
       "4         2017 2017-01-05 05:34:33.866     35000          France   \n",
       "\n",
       "        PrimaryDatabase  YearsWithThisDatabase  \\\n",
       "0  Microsoft SQL Server                     10   \n",
       "1  Microsoft SQL Server                     15   \n",
       "2  Microsoft SQL Server                      5   \n",
       "3  Microsoft SQL Server                      6   \n",
       "4  Microsoft SQL Server                     10   \n",
       "\n",
       "                                    EmploymentStatus JobTitle ManageStaff  \\\n",
       "0                                 Full time employee      DBA          No   \n",
       "1                                 Full time employee      DBA          No   \n",
       "2                                 Full time employee    Other         Yes   \n",
       "3                                 Full time employee      DBA          No   \n",
       "4  Full time employee of a consulting/contracting...      DBA          No   \n",
       "\n",
       "   YearsWithThisTypeOfJob CompanyEmployeesOverall                   Education  \\\n",
       "0                       5               Not Asked                     Masters   \n",
       "1                       3               Not Asked  None (no degree completed)   \n",
       "2                      25               Not Asked                     Masters   \n",
       "3                       2               Not Asked        Associates (2 years)   \n",
       "4                      10               Not Asked         Bachelors (4 years)   \n",
       "\n",
       "  EducationIsComputerRelated                    Certifications  \\\n",
       "0                         No  Yes, and they're currently valid   \n",
       "1                        NaN                  No, I never have   \n",
       "2                        Yes             Yes, but they expired   \n",
       "3                         No                  No, I never have   \n",
       "4                        Yes             Yes, but they expired   \n",
       "\n",
       "   HoursWorkedPerWeek                    LookingForAnotherJob  \\\n",
       "0                  45  Yes, but only passively (just curious)   \n",
       "1                  35                                      No   \n",
       "2                  45  Yes, but only passively (just curious)   \n",
       "3                  40  Yes, but only passively (just curious)   \n",
       "4                  40  Yes, but only passively (just curious)   \n",
       "\n",
       "  CareerPlansThisYear     Gender  \n",
       "0           Not Asked  Not Asked  \n",
       "1           Not Asked  Not Asked  \n",
       "2           Not Asked  Not Asked  \n",
       "3           Not Asked  Not Asked  \n",
       "4           Not Asked  Not Asked  "
      ]
     },
     "execution_count": 4,
     "metadata": {},
     "output_type": "execute_result"
    }
   ],
   "source": [
    "df.head()"
   ]
  },
  {
   "cell_type": "markdown",
   "metadata": {},
   "source": [
    "Display the dimensions of the dataset"
   ]
  },
  {
   "cell_type": "code",
   "execution_count": 6,
   "metadata": {
    "scrolled": true
   },
   "outputs": [
    {
     "data": {
      "text/plain": [
       "(6893, 18)"
      ]
     },
     "execution_count": 6,
     "metadata": {},
     "output_type": "execute_result"
    }
   ],
   "source": [
    "df.shape"
   ]
  },
  {
   "cell_type": "markdown",
   "metadata": {},
   "source": [
    "### Data Cleaning"
   ]
  },
  {
   "cell_type": "markdown",
   "metadata": {},
   "source": [
    "Checking Data types"
   ]
  },
  {
   "cell_type": "code",
   "execution_count": 12,
   "metadata": {
    "scrolled": false
   },
   "outputs": [
    {
     "data": {
      "text/plain": [
       "Survey Year                            int64\n",
       "Timestamp                     datetime64[ns]\n",
       "SalaryUSD                             object\n",
       "Country                               object\n",
       "PrimaryDatabase                       object\n",
       "YearsWithThisDatabase                  int64\n",
       "EmploymentStatus                      object\n",
       "JobTitle                              object\n",
       "ManageStaff                           object\n",
       "YearsWithThisTypeOfJob                 int64\n",
       "CompanyEmployeesOverall               object\n",
       "Education                             object\n",
       "EducationIsComputerRelated            object\n",
       "Certifications                        object\n",
       "HoursWorkedPerWeek                     int64\n",
       "LookingForAnotherJob                  object\n",
       "CareerPlansThisYear                   object\n",
       "Gender                                object\n",
       "dtype: object"
      ]
     },
     "execution_count": 12,
     "metadata": {},
     "output_type": "execute_result"
    }
   ],
   "source": [
    "df.dtypes"
   ]
  },
  {
   "cell_type": "markdown",
   "metadata": {},
   "source": [
    "Some feaures are numeric and some are categorical\n",
    "Filtering the categorical features:"
   ]
  },
  {
   "cell_type": "code",
   "execution_count": 13,
   "metadata": {
    "scrolled": true
   },
   "outputs": [
    {
     "data": {
      "text/plain": [
       "array([200000, 61515, 95000, ..., 60650, 96700, 81200], dtype=object)"
      ]
     },
     "execution_count": 13,
     "metadata": {},
     "output_type": "execute_result"
    }
   ],
   "source": [
    "df[\"SalaryUSD\"].unique()"
   ]
  },
  {
   "cell_type": "markdown",
   "metadata": {},
   "source": [
    "Converting our target column SalaryUSD object to an integer"
   ]
  },
  {
   "cell_type": "code",
   "execution_count": 4,
   "metadata": {
    "scrolled": true
   },
   "outputs": [],
   "source": [
    "df[\"SalaryUSD\"]=df[\"SalaryUSD\"].replace({'\\$': '', ',': '', ' ':''}, regex=True).astype(int)"
   ]
  },
  {
   "cell_type": "markdown",
   "metadata": {},
   "source": [
    "Checking data types for confirmation"
   ]
  },
  {
   "cell_type": "code",
   "execution_count": 15,
   "metadata": {
    "scrolled": false
   },
   "outputs": [
    {
     "data": {
      "text/plain": [
       "Survey Year                            int64\n",
       "Timestamp                     datetime64[ns]\n",
       "SalaryUSD                              int64\n",
       "Country                               object\n",
       "PrimaryDatabase                       object\n",
       "YearsWithThisDatabase                  int64\n",
       "EmploymentStatus                      object\n",
       "JobTitle                              object\n",
       "ManageStaff                           object\n",
       "YearsWithThisTypeOfJob                 int64\n",
       "CompanyEmployeesOverall               object\n",
       "Education                             object\n",
       "EducationIsComputerRelated            object\n",
       "Certifications                        object\n",
       "HoursWorkedPerWeek                     int64\n",
       "LookingForAnotherJob                  object\n",
       "CareerPlansThisYear                   object\n",
       "Gender                                object\n",
       "dtype: object"
      ]
     },
     "execution_count": 15,
     "metadata": {},
     "output_type": "execute_result"
    }
   ],
   "source": [
    "df.dtypes"
   ]
  },
  {
   "cell_type": "markdown",
   "metadata": {},
   "source": [
    "We cannot simply ignore missing values in our dataset. We must handle them in some way for the very practical reason that Scikit-Learn algorithms do not accept missing values."
   ]
  },
  {
   "cell_type": "code",
   "execution_count": 5,
   "metadata": {
    "scrolled": true
   },
   "outputs": [
    {
     "data": {
      "text/plain": [
       "Survey Year                      0\n",
       "Timestamp                        0\n",
       "SalaryUSD                        0\n",
       "Country                          0\n",
       "PrimaryDatabase                  0\n",
       "YearsWithThisDatabase            0\n",
       "EmploymentStatus                 0\n",
       "JobTitle                         0\n",
       "ManageStaff                      0\n",
       "YearsWithThisTypeOfJob           0\n",
       "CompanyEmployeesOverall          0\n",
       "Education                        0\n",
       "EducationIsComputerRelated    1216\n",
       "Certifications                   0\n",
       "HoursWorkedPerWeek               0\n",
       "LookingForAnotherJob             0\n",
       "CareerPlansThisYear              0\n",
       "Gender                           0\n",
       "dtype: int64"
      ]
     },
     "execution_count": 5,
     "metadata": {},
     "output_type": "execute_result"
    }
   ],
   "source": [
    "df.isnull().sum()"
   ]
  },
  {
   "cell_type": "markdown",
   "metadata": {},
   "source": [
    "In the entire data set, there are 1216 NaN values.The best way to handle missing data for categorical features is to simply label them as 'Missing'."
   ]
  },
  {
   "cell_type": "code",
   "execution_count": 5,
   "metadata": {
    "scrolled": true
   },
   "outputs": [],
   "source": [
    "df.fillna('Missing', inplace=True)"
   ]
  },
  {
   "cell_type": "markdown",
   "metadata": {},
   "source": [
    "Checking the change"
   ]
  },
  {
   "cell_type": "code",
   "execution_count": 7,
   "metadata": {
    "scrolled": true
   },
   "outputs": [
    {
     "data": {
      "text/html": [
       "<div>\n",
       "<style scoped>\n",
       "    .dataframe tbody tr th:only-of-type {\n",
       "        vertical-align: middle;\n",
       "    }\n",
       "\n",
       "    .dataframe tbody tr th {\n",
       "        vertical-align: top;\n",
       "    }\n",
       "\n",
       "    .dataframe thead th {\n",
       "        text-align: right;\n",
       "    }\n",
       "</style>\n",
       "<table border=\"1\" class=\"dataframe\">\n",
       "  <thead>\n",
       "    <tr style=\"text-align: right;\">\n",
       "      <th></th>\n",
       "      <th>Survey Year</th>\n",
       "      <th>Timestamp</th>\n",
       "      <th>SalaryUSD</th>\n",
       "      <th>Country</th>\n",
       "      <th>PrimaryDatabase</th>\n",
       "      <th>YearsWithThisDatabase</th>\n",
       "      <th>EmploymentStatus</th>\n",
       "      <th>JobTitle</th>\n",
       "      <th>ManageStaff</th>\n",
       "      <th>YearsWithThisTypeOfJob</th>\n",
       "      <th>CompanyEmployeesOverall</th>\n",
       "      <th>Education</th>\n",
       "      <th>EducationIsComputerRelated</th>\n",
       "      <th>Certifications</th>\n",
       "      <th>HoursWorkedPerWeek</th>\n",
       "      <th>LookingForAnotherJob</th>\n",
       "      <th>CareerPlansThisYear</th>\n",
       "      <th>Gender</th>\n",
       "    </tr>\n",
       "  </thead>\n",
       "  <tbody>\n",
       "    <tr>\n",
       "      <th>0</th>\n",
       "      <td>2017</td>\n",
       "      <td>2017-01-05 05:10:20.451</td>\n",
       "      <td>200000</td>\n",
       "      <td>United States</td>\n",
       "      <td>Microsoft SQL Server</td>\n",
       "      <td>10</td>\n",
       "      <td>Full time employee</td>\n",
       "      <td>DBA</td>\n",
       "      <td>No</td>\n",
       "      <td>5</td>\n",
       "      <td>Not Asked</td>\n",
       "      <td>Masters</td>\n",
       "      <td>No</td>\n",
       "      <td>Yes, and they're currently valid</td>\n",
       "      <td>45</td>\n",
       "      <td>Yes, but only passively (just curious)</td>\n",
       "      <td>Not Asked</td>\n",
       "      <td>Not Asked</td>\n",
       "    </tr>\n",
       "    <tr>\n",
       "      <th>1</th>\n",
       "      <td>2017</td>\n",
       "      <td>2017-01-05 05:26:23.388</td>\n",
       "      <td>61515</td>\n",
       "      <td>United Kingdom</td>\n",
       "      <td>Microsoft SQL Server</td>\n",
       "      <td>15</td>\n",
       "      <td>Full time employee</td>\n",
       "      <td>DBA</td>\n",
       "      <td>No</td>\n",
       "      <td>3</td>\n",
       "      <td>Not Asked</td>\n",
       "      <td>None (no degree completed)</td>\n",
       "      <td>Missing</td>\n",
       "      <td>No, I never have</td>\n",
       "      <td>35</td>\n",
       "      <td>No</td>\n",
       "      <td>Not Asked</td>\n",
       "      <td>Not Asked</td>\n",
       "    </tr>\n",
       "    <tr>\n",
       "      <th>2</th>\n",
       "      <td>2017</td>\n",
       "      <td>2017-01-05 05:32:57.367</td>\n",
       "      <td>95000</td>\n",
       "      <td>Germany</td>\n",
       "      <td>Microsoft SQL Server</td>\n",
       "      <td>5</td>\n",
       "      <td>Full time employee</td>\n",
       "      <td>Other</td>\n",
       "      <td>Yes</td>\n",
       "      <td>25</td>\n",
       "      <td>Not Asked</td>\n",
       "      <td>Masters</td>\n",
       "      <td>Yes</td>\n",
       "      <td>Yes, but they expired</td>\n",
       "      <td>45</td>\n",
       "      <td>Yes, but only passively (just curious)</td>\n",
       "      <td>Not Asked</td>\n",
       "      <td>Not Asked</td>\n",
       "    </tr>\n",
       "    <tr>\n",
       "      <th>3</th>\n",
       "      <td>2017</td>\n",
       "      <td>2017-01-05 05:33:03.316</td>\n",
       "      <td>56000</td>\n",
       "      <td>United Kingdom</td>\n",
       "      <td>Microsoft SQL Server</td>\n",
       "      <td>6</td>\n",
       "      <td>Full time employee</td>\n",
       "      <td>DBA</td>\n",
       "      <td>No</td>\n",
       "      <td>2</td>\n",
       "      <td>Not Asked</td>\n",
       "      <td>Associates (2 years)</td>\n",
       "      <td>No</td>\n",
       "      <td>No, I never have</td>\n",
       "      <td>40</td>\n",
       "      <td>Yes, but only passively (just curious)</td>\n",
       "      <td>Not Asked</td>\n",
       "      <td>Not Asked</td>\n",
       "    </tr>\n",
       "    <tr>\n",
       "      <th>4</th>\n",
       "      <td>2017</td>\n",
       "      <td>2017-01-05 05:34:33.866</td>\n",
       "      <td>35000</td>\n",
       "      <td>France</td>\n",
       "      <td>Microsoft SQL Server</td>\n",
       "      <td>10</td>\n",
       "      <td>Full time employee of a consulting/contracting...</td>\n",
       "      <td>DBA</td>\n",
       "      <td>No</td>\n",
       "      <td>10</td>\n",
       "      <td>Not Asked</td>\n",
       "      <td>Bachelors (4 years)</td>\n",
       "      <td>Yes</td>\n",
       "      <td>Yes, but they expired</td>\n",
       "      <td>40</td>\n",
       "      <td>Yes, but only passively (just curious)</td>\n",
       "      <td>Not Asked</td>\n",
       "      <td>Not Asked</td>\n",
       "    </tr>\n",
       "  </tbody>\n",
       "</table>\n",
       "</div>"
      ],
      "text/plain": [
       "   Survey Year               Timestamp SalaryUSD         Country  \\\n",
       "0         2017 2017-01-05 05:10:20.451    200000   United States   \n",
       "1         2017 2017-01-05 05:26:23.388     61515  United Kingdom   \n",
       "2         2017 2017-01-05 05:32:57.367     95000         Germany   \n",
       "3         2017 2017-01-05 05:33:03.316     56000  United Kingdom   \n",
       "4         2017 2017-01-05 05:34:33.866     35000          France   \n",
       "\n",
       "        PrimaryDatabase  YearsWithThisDatabase  \\\n",
       "0  Microsoft SQL Server                     10   \n",
       "1  Microsoft SQL Server                     15   \n",
       "2  Microsoft SQL Server                      5   \n",
       "3  Microsoft SQL Server                      6   \n",
       "4  Microsoft SQL Server                     10   \n",
       "\n",
       "                                    EmploymentStatus JobTitle ManageStaff  \\\n",
       "0                                 Full time employee      DBA          No   \n",
       "1                                 Full time employee      DBA          No   \n",
       "2                                 Full time employee    Other         Yes   \n",
       "3                                 Full time employee      DBA          No   \n",
       "4  Full time employee of a consulting/contracting...      DBA          No   \n",
       "\n",
       "   YearsWithThisTypeOfJob CompanyEmployeesOverall                   Education  \\\n",
       "0                       5               Not Asked                     Masters   \n",
       "1                       3               Not Asked  None (no degree completed)   \n",
       "2                      25               Not Asked                     Masters   \n",
       "3                       2               Not Asked        Associates (2 years)   \n",
       "4                      10               Not Asked         Bachelors (4 years)   \n",
       "\n",
       "  EducationIsComputerRelated                    Certifications  \\\n",
       "0                         No  Yes, and they're currently valid   \n",
       "1                    Missing                  No, I never have   \n",
       "2                        Yes             Yes, but they expired   \n",
       "3                         No                  No, I never have   \n",
       "4                        Yes             Yes, but they expired   \n",
       "\n",
       "   HoursWorkedPerWeek                    LookingForAnotherJob  \\\n",
       "0                  45  Yes, but only passively (just curious)   \n",
       "1                  35                                      No   \n",
       "2                  45  Yes, but only passively (just curious)   \n",
       "3                  40  Yes, but only passively (just curious)   \n",
       "4                  40  Yes, but only passively (just curious)   \n",
       "\n",
       "  CareerPlansThisYear     Gender  \n",
       "0           Not Asked  Not Asked  \n",
       "1           Not Asked  Not Asked  \n",
       "2           Not Asked  Not Asked  \n",
       "3           Not Asked  Not Asked  \n",
       "4           Not Asked  Not Asked  "
      ]
     },
     "execution_count": 7,
     "metadata": {},
     "output_type": "execute_result"
    }
   ],
   "source": [
    "df.head()"
   ]
  },
  {
   "cell_type": "markdown",
   "metadata": {},
   "source": [
    "Display info for the features"
   ]
  },
  {
   "cell_type": "code",
   "execution_count": 8,
   "metadata": {
    "scrolled": false
   },
   "outputs": [
    {
     "name": "stdout",
     "output_type": "stream",
     "text": [
      "<class 'pandas.core.frame.DataFrame'>\n",
      "RangeIndex: 6893 entries, 0 to 6892\n",
      "Data columns (total 18 columns):\n",
      " #   Column                      Non-Null Count  Dtype         \n",
      "---  ------                      --------------  -----         \n",
      " 0   Survey Year                 6893 non-null   int64         \n",
      " 1   Timestamp                   6893 non-null   datetime64[ns]\n",
      " 2   SalaryUSD                   6893 non-null   object        \n",
      " 3   Country                     6893 non-null   object        \n",
      " 4   PrimaryDatabase             6893 non-null   object        \n",
      " 5   YearsWithThisDatabase       6893 non-null   int64         \n",
      " 6   EmploymentStatus            6893 non-null   object        \n",
      " 7   JobTitle                    6893 non-null   object        \n",
      " 8   ManageStaff                 6893 non-null   object        \n",
      " 9   YearsWithThisTypeOfJob      6893 non-null   int64         \n",
      " 10  CompanyEmployeesOverall     6893 non-null   object        \n",
      " 11  Education                   6893 non-null   object        \n",
      " 12  EducationIsComputerRelated  6893 non-null   object        \n",
      " 13  Certifications              6893 non-null   object        \n",
      " 14  HoursWorkedPerWeek          6893 non-null   int64         \n",
      " 15  LookingForAnotherJob        6893 non-null   object        \n",
      " 16  CareerPlansThisYear         6893 non-null   object        \n",
      " 17  Gender                      6893 non-null   object        \n",
      "dtypes: datetime64[ns](1), int64(4), object(13)\n",
      "memory usage: 969.5+ KB\n"
     ]
    }
   ],
   "source": [
    "df.info()"
   ]
  },
  {
   "cell_type": "markdown",
   "metadata": {},
   "source": [
    "Final Checking for null values"
   ]
  },
  {
   "cell_type": "code",
   "execution_count": 7,
   "metadata": {
    "scrolled": true
   },
   "outputs": [
    {
     "data": {
      "text/plain": [
       "0"
      ]
     },
     "execution_count": 7,
     "metadata": {},
     "output_type": "execute_result"
    }
   ],
   "source": [
    "df.isnull().sum().sum()"
   ]
  },
  {
   "cell_type": "markdown",
   "metadata": {
    "scrolled": true
   },
   "source": [
    "Filter out duplicates"
   ]
  },
  {
   "cell_type": "code",
   "execution_count": 6,
   "metadata": {
    "scrolled": false
   },
   "outputs": [],
   "source": [
    "df = df[~df.duplicated()]"
   ]
  },
  {
   "cell_type": "code",
   "execution_count": 11,
   "metadata": {
    "scrolled": true
   },
   "outputs": [
    {
     "data": {
      "text/plain": [
       "(6893, 18)"
      ]
     },
     "execution_count": 11,
     "metadata": {},
     "output_type": "execute_result"
    }
   ],
   "source": [
    "df.shape"
   ]
  },
  {
   "cell_type": "markdown",
   "metadata": {},
   "source": [
    "It looks like we didn't have any duplicates in our original dataset."
   ]
  },
  {
   "cell_type": "markdown",
   "metadata": {},
   "source": [
    "### Exploratory data analysis"
   ]
  },
  {
   "cell_type": "code",
   "execution_count": 23,
   "metadata": {
    "scrolled": false
   },
   "outputs": [
    {
     "data": {
      "text/plain": [
       "United States         4509\n",
       "United Kingdom         667\n",
       "Canada                 244\n",
       "Australia              185\n",
       "India                  112\n",
       "                      ... \n",
       "Bolivia                  1\n",
       "Albania                  1\n",
       "Taiwan                   1\n",
       "Dominican Republic       1\n",
       "Kenya                    1\n",
       "Name: Country, Length: 85, dtype: int64"
      ]
     },
     "execution_count": 23,
     "metadata": {},
     "output_type": "execute_result"
    }
   ],
   "source": [
    "df['Country'].value_counts()"
   ]
  },
  {
   "cell_type": "markdown",
   "metadata": {},
   "source": [
    "We are going focus only in United State.  "
   ]
  },
  {
   "cell_type": "markdown",
   "metadata": {},
   "source": [
    "#### Feature Engineering for column Country"
   ]
  },
  {
   "cell_type": "code",
   "execution_count": 7,
   "metadata": {
    "scrolled": true
   },
   "outputs": [],
   "source": [
    "def country_map(x):\n",
    "    if x == \"United States\":\n",
    "        return 1\n",
    "    else:\n",
    "        return 0"
   ]
  },
  {
   "cell_type": "code",
   "execution_count": 8,
   "metadata": {
    "scrolled": true
   },
   "outputs": [],
   "source": [
    "df['Country'] = df['Country'].map(country_map)"
   ]
  },
  {
   "cell_type": "code",
   "execution_count": 26,
   "metadata": {
    "scrolled": false
   },
   "outputs": [
    {
     "data": {
      "text/plain": [
       "Microsoft SQL Server       6461\n",
       "Oracle                      215\n",
       "PostgreSQL                   46\n",
       "Other                        38\n",
       "MySQL/MariaDB                29\n",
       "Azure SQL DB                 24\n",
       "DB2                          16\n",
       "Microsoft Access             15\n",
       "Amazon RDS (any flavor)      13\n",
       "Teradata                     11\n",
       "SAP                          11\n",
       "MongoDB                       6\n",
       "SQLite                        4\n",
       "Elasticsearch                 2\n",
       "Cassandra                     2\n",
       "Name: PrimaryDatabase, dtype: int64"
      ]
     },
     "execution_count": 26,
     "metadata": {},
     "output_type": "execute_result"
    }
   ],
   "source": [
    "df['PrimaryDatabase'].value_counts()"
   ]
  },
  {
   "cell_type": "markdown",
   "metadata": {},
   "source": [
    "These are the Jobs our dataset has provided pieces of information."
   ]
  },
  {
   "cell_type": "code",
   "execution_count": 33,
   "metadata": {
    "scrolled": true
   },
   "outputs": [
    {
     "data": {
      "text/plain": [
       "Male                                                                          3530\n",
       "Not Asked                                                                     2898\n",
       "Female                                                                         395\n",
       "Prefer not to say                                                               42\n",
       "Non-binary/third gender                                                          8\n",
       "Attack Helicopter                                                                2\n",
       "Attackhelicopter with rabbitears and afro-icelandic teeth                        1\n",
       "There are only two genders for people, either male or female. I am a male.       1\n",
       "Muppet                                                                           1\n",
       "toad frog                                                                        1\n",
       "Vulcan                                                                           1\n",
       "Apache Helicopter                                                                1\n",
       "This question is inappropriate.                                                  1\n",
       "Attack Helicopter (M)                                                            1\n",
       "Attack Helicopter. (serious dude, gender questions?)                             1\n",
       "confused                                                                         1\n",
       "Pastafarian                                                                      1\n",
       "Reptilian                                                                        1\n",
       "Alien                                                                            1\n",
       "Cyborg                                                                           1\n",
       "Meat Popsicle                                                                    1\n",
       "Dragon                                                                           1\n",
       "Any human one                                                                    1\n",
       "Grayson Perry                                                                    1\n",
       "Name: Gender, dtype: int64"
      ]
     },
     "execution_count": 33,
     "metadata": {},
     "output_type": "execute_result"
    }
   ],
   "source": [
    "df['Gender'].value_counts()"
   ]
  },
  {
   "cell_type": "markdown",
   "metadata": {},
   "source": [
    "We are going to focus only on 'Women' for that it will be a good idea to do feature engineers here."
   ]
  },
  {
   "cell_type": "markdown",
   "metadata": {},
   "source": [
    "#### Feature Engineering for column Gender"
   ]
  },
  {
   "cell_type": "code",
   "execution_count": 9,
   "metadata": {
    "scrolled": true
   },
   "outputs": [],
   "source": [
    "def gender_map(x):\n",
    "    if x == \"Female\":\n",
    "        return 1\n",
    "    else:\n",
    "        return 0"
   ]
  },
  {
   "cell_type": "code",
   "execution_count": 10,
   "metadata": {
    "scrolled": true
   },
   "outputs": [],
   "source": [
    "df['Gender'] = df['Gender'].map(gender_map)"
   ]
  },
  {
   "cell_type": "code",
   "execution_count": 24,
   "metadata": {
    "scrolled": false
   },
   "outputs": [
    {
     "data": {
      "image/png": "[encoded data removed]",
      "text/plain": [
       "<Figure size 1440x1080 with 1 Axes>"
      ]
     },
     "metadata": {},
     "output_type": "display_data"
    }
   ],
   "source": [
    "plt.figure(figsize = (20,15))\n",
    "sns.boxplot(data = df,x = 'Country',  y = 'PrimaryDatabase', hue = 'Gender')\n",
    "plt.title(\"Popular Jobs in USA\");"
   ]
  },
  {
   "cell_type": "markdown",
   "metadata": {},
   "source": [
    "In USA PostgreSQL and Oracle are most popular job for women besides outher jobs."
   ]
  },
  {
   "cell_type": "code",
   "execution_count": 41,
   "metadata": {
    "scrolled": false
   },
   "outputs": [
    {
     "data": {
      "text/plain": [
       "DBA                                                                                                           1514\n",
       "DBA (General - splits time evenly between writing & tuning queries AND building & troubleshooting servers)    1068\n",
       "DBA (Production Focus - build & troubleshoot servers, HA/DR)                                                   688\n",
       "Developer: T-SQL                                                                                               666\n",
       "Architect                                                                                                      533\n",
       "Developer: Business Intelligence (SSRS, PowerBI, etc)                                                          488\n",
       "Developer: App code (C#, JS, etc)                                                                              486\n",
       "Manager                                                                                                        394\n",
       "Analyst                                                                                                        354\n",
       "Engineer                                                                                                       301\n",
       "DBA (Development Focus - tunes queries, indexes, does deployments)                                             255\n",
       "Other                                                                                                          107\n",
       "Data Scientist                                                                                                  28\n",
       "Systems Administrator                                                                                            2\n",
       "Consultant                                                                                                       1\n",
       "DBA / BI Developer                                                                                               1\n",
       "Analytics consultant                                                                                             1\n",
       "Technician                                                                                                       1\n",
       "Principal database engineer                                                                                      1\n",
       "Sr Consultant                                                                                                    1\n",
       "Sales                                                                                                            1\n",
       "DevOps, Sr Software Engineer DBA                                                                                 1\n",
       "Database Specialist                                                                                              1\n",
       "Name: JobTitle, dtype: int64"
      ]
     },
     "execution_count": 41,
     "metadata": {},
     "output_type": "execute_result"
    }
   ],
   "source": [
    "df['JobTitle'].value_counts()"
   ]
  },
  {
   "cell_type": "markdown",
   "metadata": {},
   "source": [
    "Let us find out how salary related to these Job titles above by plotting barplot and also find out how much women are getting within these titles."
   ]
  },
  {
   "cell_type": "code",
   "execution_count": 44,
   "metadata": {
    "scrolled": false
   },
   "outputs": [
    {
     "data": {
      "image/png": "[encoded data removed]",
      "text/plain": [
       "<Figure size 1800x1296 with 1 Axes>"
      ]
     },
     "metadata": {},
     "output_type": "display_data"
    }
   ],
   "source": [
    "plt.figure(figsize = (25,18))\n",
    "sns.barplot(data = df,x = 'SalaryUSD',  y = 'JobTitle', hue = 'Gender')\n",
    "plt.title(\"Salary depending on Job title\");"
   ]
  },
  {
   "cell_type": "markdown",
   "metadata": {},
   "source": [
    "From 2017 to 2019 still in many sectors women are less paid than men. But we can see a tremendous salary increase for women as a \"Data Scientist\" which is almost near to 150k. As an 'Engineer' they are getting near to 100k salary nowadays."
   ]
  },
  {
   "cell_type": "code",
   "execution_count": 65,
   "metadata": {
    "scrolled": false
   },
   "outputs": [
    {
     "data": {
      "image/png": "[encoded data removed]",
      "text/plain": [
       "<Figure size 1800x1296 with 1 Axes>"
      ]
     },
     "metadata": {},
     "output_type": "display_data"
    }
   ],
   "source": [
    "plt.figure(figsize = (25,18))\n",
    "sns.barplot(data = df,y = 'HoursWorkedPerWeek',  x = 'LookingForAnotherJob', hue = 'Gender')\n",
    "\n",
    "plt.title(\"Women who Looking for Another job\");"
   ]
  },
  {
   "cell_type": "markdown",
   "metadata": {},
   "source": [
    "Here we can clearly see that, after 2017  women are getting interested to look for better job. May be Some of them are not satisfied with current job or current salary or hour. Who are actively looking for job they are working almost 45hrs/week."
   ]
  },
  {
   "cell_type": "code",
   "execution_count": 38,
   "metadata": {
    "scrolled": false
   },
   "outputs": [
    {
     "data": {
      "text/plain": [
       "No, I never have                    3357\n",
       "Yes, and they're currently valid    1813\n",
       "Yes, but they expired               1723\n",
       "Name: Certifications, dtype: int64"
      ]
     },
     "execution_count": 38,
     "metadata": {},
     "output_type": "execute_result"
    }
   ],
   "source": [
    "df['Certifications'].value_counts()"
   ]
  },
  {
   "cell_type": "markdown",
   "metadata": {},
   "source": [
    "In this column there are three types of people, let see by plotting a barplot that how much it depends on the salary."
   ]
  },
  {
   "cell_type": "code",
   "execution_count": 39,
   "metadata": {
    "scrolled": false
   },
   "outputs": [
    {
     "data": {
      "image/png": "[encoded data removed]",
      "text/plain": [
       "<Figure size 720x432 with 1 Axes>"
      ]
     },
     "metadata": {},
     "output_type": "display_data"
    }
   ],
   "source": [
    "plt.figure(figsize=(10,6))\n",
    "    \n",
    "plt.title('Certificate vs Salary')\n",
    "\n",
    "sns.barplot(y = df['Certifications'], x = df[\"SalaryUSD\"])\n",
    "\n",
    "\n",
    "plt.xlabel('Salary')\n",
    "plt.ylabel('Certifications');"
   ]
  },
  {
   "cell_type": "markdown",
   "metadata": {},
   "source": [
    "For everyone who can see if they Didn't have or have a valid certificate they can earn more than 80000, But who had expired certificate(people who are working for long or experienced) they are earning more than 100k."
   ]
  },
  {
   "cell_type": "code",
   "execution_count": 71,
   "metadata": {
    "scrolled": false
   },
   "outputs": [
    {
     "data": {
      "image/png": "[encoded data removed]",
      "text/plain": [
       "<Figure size 1440x864 with 1 Axes>"
      ]
     },
     "metadata": {},
     "output_type": "display_data"
    }
   ],
   "source": [
    "plt.figure(figsize=(20,12))\n",
    "    \n",
    "plt.title('Primary Database vs Salary')\n",
    "\n",
    "sns.barplot(y = df['PrimaryDatabase'], x = df[\"SalaryUSD\"],\n",
    "           hue= df['Gender'])\n",
    "\n",
    "\n",
    "plt.xlabel('Salary')\n",
    "plt.ylabel('Primary Database');"
   ]
  },
  {
   "cell_type": "markdown",
   "metadata": {},
   "source": [
    "Here we can see that women are getting more than 100k in MySQL/MariaDB and 'other' sector of job. Also getting less paid in,  PostgreSQL which is less than 50k. But for all gender most paid amount is almost 200k in Amazon RDS(any flavor)."
   ]
  },
  {
   "cell_type": "code",
   "execution_count": 67,
   "metadata": {
    "scrolled": false
   },
   "outputs": [
    {
     "data": {
      "image/png": "[encoded data removed]",
      "text/plain": [
       "<Figure size 720x720 with 1 Axes>"
      ]
     },
     "metadata": {},
     "output_type": "display_data"
    }
   ],
   "source": [
    "plt.figure(figsize=(10, 10)) # (width, height)\n",
    "plt.title(\"Working years in a Job\")\n",
    "\n",
    "sns.barplot( df['YearsWithThisTypeOfJob'], df['PrimaryDatabase'], hue = df['Gender'])\n",
    "\n",
    "plt.xlabel(\"Years in Job\")\n",
    "plt.ylabel(\"Job Type\");"
   ]
  },
  {
   "cell_type": "markdown",
   "metadata": {},
   "source": [
    "Jobs like 'Microsoft SQL Server' and 'Oracle' women are working almost like 8 to 10 years! It's a good sign! Otherwise, it seems hard 5 years in the Tech field for women."
   ]
  },
  {
   "cell_type": "code",
   "execution_count": 28,
   "metadata": {
    "scrolled": false
   },
   "outputs": [
    {
     "data": {
      "text/plain": [
       "Full time employee                                                   6101\n",
       "Full time employee of a consulting/contracting company                495\n",
       "Independent consultant, contractor, freelancer,  or company owner     171\n",
       "Independent or freelancer or company owner                            104\n",
       "Part time                                                              22\n",
       "Name: EmploymentStatus, dtype: int64"
      ]
     },
     "execution_count": 28,
     "metadata": {},
     "output_type": "execute_result"
    }
   ],
   "source": [
    "df['EmploymentStatus'].value_counts()"
   ]
  },
  {
   "cell_type": "markdown",
   "metadata": {},
   "source": [
    "According to our dataset, there are 5 types of employment status. The salary differs in every step. Let us plot a barplot to see visually."
   ]
  },
  {
   "cell_type": "code",
   "execution_count": 51,
   "metadata": {
    "scrolled": false
   },
   "outputs": [
    {
     "data": {
      "image/png": "[encoded data removed]",
      "text/plain": [
       "<Figure size 1440x864 with 1 Axes>"
      ]
     },
     "metadata": {},
     "output_type": "display_data"
    }
   ],
   "source": [
    "plt.figure(figsize=(20,12))\n",
    "    \n",
    "plt.title('Employment Status vs Salary')\n",
    "\n",
    "sns.barplot(y = df['EmploymentStatus'], x = df[\"SalaryUSD\"], hue = df['Gender'])\n",
    "\n",
    "\n",
    "plt.xlabel('Salary')\n",
    "plt.ylabel('Employment Status');"
   ]
  },
  {
   "cell_type": "markdown",
   "metadata": {},
   "source": [
    "We notice for women who are 'Independent consultants, Contractors, freelancers or company owners' having a salary less than 130k which seems to be the highest salary. Otherwise in almost every status of employment women are getting less paid than another gender. Only as a 'Full-time employee' all gender getting almost 90k Accordingly 2017 to 2019 years."
   ]
  },
  {
   "cell_type": "code",
   "execution_count": 42,
   "metadata": {
    "scrolled": true
   },
   "outputs": [
    {
     "data": {
      "text/plain": [
       "Not Asked                                         2898\n",
       "Stay with the same employer, same role            2398\n",
       "Stay with the same employer,  but change roles     485\n",
       "Stay with the same role, but change employers      471\n",
       "Prefer not to say                                  347\n",
       "Change both employers and roles                    294\n",
       "Name: CareerPlansThisYear, dtype: int64"
      ]
     },
     "execution_count": 42,
     "metadata": {},
     "output_type": "execute_result"
    }
   ],
   "source": [
    "df['CareerPlansThisYear'].value_counts()"
   ]
  },
  {
   "cell_type": "markdown",
   "metadata": {},
   "source": [
    "There are lots of cause that people want to change their role. Sometimes thay say it, sometimes they are not being asked about it."
   ]
  },
  {
   "cell_type": "code",
   "execution_count": 98,
   "metadata": {},
   "outputs": [
    {
     "data": {
      "image/png": "[encoded data removed]",
      "text/plain": [
       "<Figure size 1440x864 with 1 Axes>"
      ]
     },
     "metadata": {},
     "output_type": "display_data"
    }
   ],
   "source": [
    "plt.figure(figsize=(20,12))\n",
    "    \n",
    "plt.title('Career Plans vs Salary')\n",
    "\n",
    "sns.barplot(y = df['CareerPlansThisYear'], x = df[\"SalaryUSD\"], hue = df['Gender'])\n",
    "\n",
    "\n",
    "plt.xlabel('Salary')\n",
    "plt.ylabel('Career Plans');"
   ]
  },
  {
   "cell_type": "markdown",
   "metadata": {},
   "source": [
    "Women who want to switch jobs said 'change both employers and role' and 'Stay with the same role, but change employers' are having 80k to 90k salary but for some reason, they want to switch for a new job."
   ]
  },
  {
   "cell_type": "code",
   "execution_count": 36,
   "metadata": {
    "scrolled": false
   },
   "outputs": [
    {
     "data": {
      "text/plain": [
       "Bachelors (4 years)           3658\n",
       "Masters                       1236\n",
       "None (no degree completed)    1184\n",
       "Associates (2 years)           764\n",
       "Doctorate/PhD                   51\n",
       "Name: Education, dtype: int64"
      ]
     },
     "execution_count": 36,
     "metadata": {},
     "output_type": "execute_result"
    }
   ],
   "source": [
    "df['Education'].value_counts()"
   ]
  },
  {
   "cell_type": "markdown",
   "metadata": {},
   "source": [
    "There are ordinal values in which we can order them with numbers using a conversion dictionary."
   ]
  },
  {
   "cell_type": "markdown",
   "metadata": {},
   "source": [
    "#### Conversion Dictionary for 'Education' Column"
   ]
  },
  {
   "cell_type": "code",
   "execution_count": 14,
   "metadata": {
    "scrolled": true
   },
   "outputs": [],
   "source": [
    "df['Education'] = df['Education'].map({'None (no degree completed)' : 0, 'Associates (2 years)' : 1, 'Bachelors (4 years)' : 2,\n",
    "                    'Masters' : 3, 'Doctorate/PhD' : 4})"
   ]
  },
  {
   "cell_type": "code",
   "execution_count": 17,
   "metadata": {
    "scrolled": true
   },
   "outputs": [
    {
     "data": {
      "image/png": "[encoded data removed]",
      "text/plain": [
       "<Figure size 1440x864 with 1 Axes>"
      ]
     },
     "metadata": {},
     "output_type": "display_data"
    }
   ],
   "source": [
    "plt.figure(figsize=(20,12))\n",
    "    \n",
    "plt.title('Education vs Salary')\n",
    "\n",
    "sns.barplot(x = df['Education'], y = df[\"SalaryUSD\"], hue = df['Gender'])\n",
    "\n",
    "\n",
    "plt.ylabel('Salary')\n",
    "plt.xlabel('Education');"
   ]
  },
  {
   "cell_type": "markdown",
   "metadata": {},
   "source": [
    "In every sector of education, all gender people are having a job with a good salary. there is less participation in 4 which means the Ph.D. level for women especially. Even without a degree it shows in 0 also having a job with a good salary in Tech field."
   ]
  },
  {
   "cell_type": "code",
   "execution_count": 32,
   "metadata": {
    "scrolled": true
   },
   "outputs": [
    {
     "data": {
      "text/plain": [
       "No     5289\n",
       "Yes    1604\n",
       "Name: ManageStaff, dtype: int64"
      ]
     },
     "execution_count": 32,
     "metadata": {},
     "output_type": "execute_result"
    }
   ],
   "source": [
    "df['ManageStaff'].value_counts()"
   ]
  },
  {
   "cell_type": "markdown",
   "metadata": {},
   "source": [
    "For this column let us convert Yes and No to 1 and 0"
   ]
  },
  {
   "cell_type": "markdown",
   "metadata": {},
   "source": [
    "#### Feature Engineering for column ManageStaff"
   ]
  },
  {
   "cell_type": "code",
   "execution_count": 11,
   "metadata": {
    "scrolled": true
   },
   "outputs": [],
   "source": [
    "df['ManageStaff'] = df['ManageStaff'].map({'No' : 0, 'Yes' : 1 })"
   ]
  },
  {
   "cell_type": "markdown",
   "metadata": {},
   "source": [
    "#### Dummy categorical features"
   ]
  },
  {
   "cell_type": "markdown",
   "metadata": {},
   "source": [
    "Finally, let's dummy the remaining categorical features:"
   ]
  },
  {
   "cell_type": "code",
   "execution_count": 12,
   "metadata": {
    "scrolled": true
   },
   "outputs": [],
   "source": [
    "df_dummy = pd.get_dummies(df)"
   ]
  },
  {
   "cell_type": "code",
   "execution_count": 13,
   "metadata": {
    "scrolled": true
   },
   "outputs": [
    {
     "data": {
      "text/html": [
       "<div>\n",
       "<style scoped>\n",
       "    .dataframe tbody tr th:only-of-type {\n",
       "        vertical-align: middle;\n",
       "    }\n",
       "\n",
       "    .dataframe tbody tr th {\n",
       "        vertical-align: top;\n",
       "    }\n",
       "\n",
       "    .dataframe thead th {\n",
       "        text-align: right;\n",
       "    }\n",
       "</style>\n",
       "<table border=\"1\" class=\"dataframe\">\n",
       "  <thead>\n",
       "    <tr style=\"text-align: right;\">\n",
       "      <th></th>\n",
       "      <th>Survey Year</th>\n",
       "      <th>Timestamp</th>\n",
       "      <th>SalaryUSD</th>\n",
       "      <th>Country</th>\n",
       "      <th>YearsWithThisDatabase</th>\n",
       "      <th>ManageStaff</th>\n",
       "      <th>YearsWithThisTypeOfJob</th>\n",
       "      <th>HoursWorkedPerWeek</th>\n",
       "      <th>Gender</th>\n",
       "      <th>PrimaryDatabase_Amazon RDS (any flavor)</th>\n",
       "      <th>...</th>\n",
       "      <th>Certifications_Yes, but they expired</th>\n",
       "      <th>LookingForAnotherJob_No</th>\n",
       "      <th>LookingForAnotherJob_Yes, actively looking for something else</th>\n",
       "      <th>LookingForAnotherJob_Yes, but only passively (just curious)</th>\n",
       "      <th>CareerPlansThisYear_Change both employers and roles</th>\n",
       "      <th>CareerPlansThisYear_Not Asked</th>\n",
       "      <th>CareerPlansThisYear_Prefer not to say</th>\n",
       "      <th>CareerPlansThisYear_Stay with the same employer,  but change roles</th>\n",
       "      <th>CareerPlansThisYear_Stay with the same employer, same role</th>\n",
       "      <th>CareerPlansThisYear_Stay with the same role, but change employers</th>\n",
       "    </tr>\n",
       "  </thead>\n",
       "  <tbody>\n",
       "    <tr>\n",
       "      <th>0</th>\n",
       "      <td>2017</td>\n",
       "      <td>2017-01-05 05:10:20.451</td>\n",
       "      <td>200000</td>\n",
       "      <td>1</td>\n",
       "      <td>10</td>\n",
       "      <td>0</td>\n",
       "      <td>5</td>\n",
       "      <td>45</td>\n",
       "      <td>0</td>\n",
       "      <td>0</td>\n",
       "      <td>...</td>\n",
       "      <td>0</td>\n",
       "      <td>0</td>\n",
       "      <td>0</td>\n",
       "      <td>1</td>\n",
       "      <td>0</td>\n",
       "      <td>1</td>\n",
       "      <td>0</td>\n",
       "      <td>0</td>\n",
       "      <td>0</td>\n",
       "      <td>0</td>\n",
       "    </tr>\n",
       "    <tr>\n",
       "      <th>1</th>\n",
       "      <td>2017</td>\n",
       "      <td>2017-01-05 05:26:23.388</td>\n",
       "      <td>61515</td>\n",
       "      <td>0</td>\n",
       "      <td>15</td>\n",
       "      <td>0</td>\n",
       "      <td>3</td>\n",
       "      <td>35</td>\n",
       "      <td>0</td>\n",
       "      <td>0</td>\n",
       "      <td>...</td>\n",
       "      <td>0</td>\n",
       "      <td>1</td>\n",
       "      <td>0</td>\n",
       "      <td>0</td>\n",
       "      <td>0</td>\n",
       "      <td>1</td>\n",
       "      <td>0</td>\n",
       "      <td>0</td>\n",
       "      <td>0</td>\n",
       "      <td>0</td>\n",
       "    </tr>\n",
       "    <tr>\n",
       "      <th>2</th>\n",
       "      <td>2017</td>\n",
       "      <td>2017-01-05 05:32:57.367</td>\n",
       "      <td>95000</td>\n",
       "      <td>0</td>\n",
       "      <td>5</td>\n",
       "      <td>1</td>\n",
       "      <td>25</td>\n",
       "      <td>45</td>\n",
       "      <td>0</td>\n",
       "      <td>0</td>\n",
       "      <td>...</td>\n",
       "      <td>1</td>\n",
       "      <td>0</td>\n",
       "      <td>0</td>\n",
       "      <td>1</td>\n",
       "      <td>0</td>\n",
       "      <td>1</td>\n",
       "      <td>0</td>\n",
       "      <td>0</td>\n",
       "      <td>0</td>\n",
       "      <td>0</td>\n",
       "    </tr>\n",
       "    <tr>\n",
       "      <th>3</th>\n",
       "      <td>2017</td>\n",
       "      <td>2017-01-05 05:33:03.316</td>\n",
       "      <td>56000</td>\n",
       "      <td>0</td>\n",
       "      <td>6</td>\n",
       "      <td>0</td>\n",
       "      <td>2</td>\n",
       "      <td>40</td>\n",
       "      <td>0</td>\n",
       "      <td>0</td>\n",
       "      <td>...</td>\n",
       "      <td>0</td>\n",
       "      <td>0</td>\n",
       "      <td>0</td>\n",
       "      <td>1</td>\n",
       "      <td>0</td>\n",
       "      <td>1</td>\n",
       "      <td>0</td>\n",
       "      <td>0</td>\n",
       "      <td>0</td>\n",
       "      <td>0</td>\n",
       "    </tr>\n",
       "    <tr>\n",
       "      <th>4</th>\n",
       "      <td>2017</td>\n",
       "      <td>2017-01-05 05:34:33.866</td>\n",
       "      <td>35000</td>\n",
       "      <td>0</td>\n",
       "      <td>10</td>\n",
       "      <td>0</td>\n",
       "      <td>10</td>\n",
       "      <td>40</td>\n",
       "      <td>0</td>\n",
       "      <td>0</td>\n",
       "      <td>...</td>\n",
       "      <td>1</td>\n",
       "      <td>0</td>\n",
       "      <td>0</td>\n",
       "      <td>1</td>\n",
       "      <td>0</td>\n",
       "      <td>1</td>\n",
       "      <td>0</td>\n",
       "      <td>0</td>\n",
       "      <td>0</td>\n",
       "      <td>0</td>\n",
       "    </tr>\n",
       "  </tbody>\n",
       "</table>\n",
       "<p>5 rows × 79 columns</p>\n",
       "</div>"
      ],
      "text/plain": [
       "   Survey Year               Timestamp  SalaryUSD  Country  \\\n",
       "0         2017 2017-01-05 05:10:20.451     200000        1   \n",
       "1         2017 2017-01-05 05:26:23.388      61515        0   \n",
       "2         2017 2017-01-05 05:32:57.367      95000        0   \n",
       "3         2017 2017-01-05 05:33:03.316      56000        0   \n",
       "4         2017 2017-01-05 05:34:33.866      35000        0   \n",
       "\n",
       "   YearsWithThisDatabase  ManageStaff  YearsWithThisTypeOfJob  \\\n",
       "0                     10            0                       5   \n",
       "1                     15            0                       3   \n",
       "2                      5            1                      25   \n",
       "3                      6            0                       2   \n",
       "4                     10            0                      10   \n",
       "\n",
       "   HoursWorkedPerWeek  Gender  PrimaryDatabase_Amazon RDS (any flavor)  ...  \\\n",
       "0                  45       0                                        0  ...   \n",
       "1                  35       0                                        0  ...   \n",
       "2                  45       0                                        0  ...   \n",
       "3                  40       0                                        0  ...   \n",
       "4                  40       0                                        0  ...   \n",
       "\n",
       "   Certifications_Yes, but they expired  LookingForAnotherJob_No  \\\n",
       "0                                     0                        0   \n",
       "1                                     0                        1   \n",
       "2                                     1                        0   \n",
       "3                                     0                        0   \n",
       "4                                     1                        0   \n",
       "\n",
       "   LookingForAnotherJob_Yes, actively looking for something else  \\\n",
       "0                                                  0               \n",
       "1                                                  0               \n",
       "2                                                  0               \n",
       "3                                                  0               \n",
       "4                                                  0               \n",
       "\n",
       "   LookingForAnotherJob_Yes, but only passively (just curious)  \\\n",
       "0                                                  1             \n",
       "1                                                  0             \n",
       "2                                                  1             \n",
       "3                                                  1             \n",
       "4                                                  1             \n",
       "\n",
       "   CareerPlansThisYear_Change both employers and roles  \\\n",
       "0                                                  0     \n",
       "1                                                  0     \n",
       "2                                                  0     \n",
       "3                                                  0     \n",
       "4                                                  0     \n",
       "\n",
       "   CareerPlansThisYear_Not Asked  CareerPlansThisYear_Prefer not to say  \\\n",
       "0                              1                                      0   \n",
       "1                              1                                      0   \n",
       "2                              1                                      0   \n",
       "3                              1                                      0   \n",
       "4                              1                                      0   \n",
       "\n",
       "   CareerPlansThisYear_Stay with the same employer,  but change roles  \\\n",
       "0                                                  0                    \n",
       "1                                                  0                    \n",
       "2                                                  0                    \n",
       "3                                                  0                    \n",
       "4                                                  0                    \n",
       "\n",
       "   CareerPlansThisYear_Stay with the same employer, same role  \\\n",
       "0                                                  0            \n",
       "1                                                  0            \n",
       "2                                                  0            \n",
       "3                                                  0            \n",
       "4                                                  0            \n",
       "\n",
       "   CareerPlansThisYear_Stay with the same role, but change employers  \n",
       "0                                                  0                  \n",
       "1                                                  0                  \n",
       "2                                                  0                  \n",
       "3                                                  0                  \n",
       "4                                                  0                  \n",
       "\n",
       "[5 rows x 79 columns]"
      ]
     },
     "execution_count": 13,
     "metadata": {},
     "output_type": "execute_result"
    }
   ],
   "source": [
    "df_dummy.head()"
   ]
  },
  {
   "cell_type": "markdown",
   "metadata": {},
   "source": [
    "Checking example of dummied dataset"
   ]
  },
  {
   "cell_type": "code",
   "execution_count": 174,
   "metadata": {
    "scrolled": true
   },
   "outputs": [
    {
     "data": {
      "text/plain": [
       "(6893, 75)"
      ]
     },
     "execution_count": 174,
     "metadata": {},
     "output_type": "execute_result"
    }
   ],
   "source": [
    "df_dummy.shape"
   ]
  },
  {
   "cell_type": "markdown",
   "metadata": {},
   "source": [
    "Saving cleaned dataset:"
   ]
  },
  {
   "cell_type": "code",
   "execution_count": 19,
   "metadata": {
    "scrolled": true
   },
   "outputs": [],
   "source": [
    "df_dummy.to_csv('./datasets/cleaned_dataframe.csv', index = False)"
   ]
  },
  {
   "cell_type": "markdown",
   "metadata": {},
   "source": [
    "Based on this dataset, we are likely to be able to answer our problem statement."
   ]
  },
  {
   "cell_type": "code",
   "execution_count": 15,
   "metadata": {},
   "outputs": [],
   "source": [
    "df_dummy = pd.read_csv('./datasets/cleaned_dataframe.csv')"
   ]
  },
  {
   "cell_type": "markdown",
   "metadata": {},
   "source": [
    "### Model Preparation"
   ]
  },
  {
   "cell_type": "markdown",
   "metadata": {},
   "source": [
    "Separate our dataframe into separate objects for the target variable (y) and the input features (X) and perform the train and test split"
   ]
  },
  {
   "cell_type": "markdown",
   "metadata": {},
   "source": [
    "Create separate object for input features"
   ]
  },
  {
   "cell_type": "code",
   "execution_count": 16,
   "metadata": {
    "scrolled": true
   },
   "outputs": [],
   "source": [
    "X = df_dummy.drop(columns = ['SalaryUSD','Timestamp', 'Survey Year'])"
   ]
  },
  {
   "cell_type": "markdown",
   "metadata": {},
   "source": [
    "Create separate object for target variable"
   ]
  },
  {
   "cell_type": "code",
   "execution_count": 33,
   "metadata": {
    "scrolled": true
   },
   "outputs": [],
   "source": [
    "y = df['SalaryUSD']"
   ]
  },
  {
   "cell_type": "code",
   "execution_count": 35,
   "metadata": {},
   "outputs": [
    {
     "data": {
      "text/plain": [
       "92807.12781082257"
      ]
     },
     "execution_count": 35,
     "metadata": {},
     "output_type": "execute_result"
    }
   ],
   "source": [
    "np.mean(y)"
   ]
  },
  {
   "cell_type": "markdown",
   "metadata": {},
   "source": [
    "#### Train and Test Splits"
   ]
  },
  {
   "cell_type": "markdown",
   "metadata": {},
   "source": [
    "train test split to help check model"
   ]
  },
  {
   "cell_type": "code",
   "execution_count": 19,
   "metadata": {
    "scrolled": true
   },
   "outputs": [],
   "source": [
    "X_train, X_test, y_train, y_test = train_test_split(X, \n",
    "                                                    y, \n",
    "                                        random_state = RANDOM_STATE)"
   ]
  },
  {
   "cell_type": "markdown",
   "metadata": {},
   "source": [
    "#### Data Scaling"
   ]
  },
  {
   "cell_type": "code",
   "execution_count": 20,
   "metadata": {
    "scrolled": true
   },
   "outputs": [],
   "source": [
    "ss = StandardScaler()\n",
    "ss.fit(X_train)\n",
    "\n",
    "X_train_sc = ss.transform(X_train)\n",
    "X_test_sc = ss.transform(X_test)"
   ]
  },
  {
   "cell_type": "markdown",
   "metadata": {},
   "source": [
    "With all our models, we will use RMSE as the regression metric to measure the success of our models. RMSE works well for us because it is given in the units of our target variable and can easily tell us the error in our predictions. Our goal is to minimize the RMSE as much as possible to get it close to 0."
   ]
  },
  {
   "cell_type": "code",
   "execution_count": 21,
   "metadata": {
    "scrolled": true
   },
   "outputs": [],
   "source": [
    "def rmse(model, X, y):\n",
    "    \n",
    "    predictions = model.predict(X)\n",
    "    \n",
    "    rmse = np.sqrt(mean_squared_error(y, predictions))\n",
    "    \n",
    "    return rmse"
   ]
  },
  {
   "cell_type": "markdown",
   "metadata": {},
   "source": [
    "### Modeling"
   ]
  },
  {
   "cell_type": "markdown",
   "metadata": {},
   "source": [
    "#### Baseline Model"
   ]
  },
  {
   "cell_type": "markdown",
   "metadata": {},
   "source": [
    "Instantiating our baseline model:"
   ]
  },
  {
   "cell_type": "code",
   "execution_count": 64,
   "metadata": {
    "scrolled": true
   },
   "outputs": [
    {
     "name": "stdout",
     "output_type": "stream",
     "text": [
      "Baseline Train RMSE:  57965.304395185034\n",
      "Baseline Test RMSE:  57179.03514526216\n"
     ]
    }
   ],
   "source": [
    "base = DummyRegressor(strategy=\"mean\")\n",
    "\n",
    "# Fitting our baseline model: \n",
    "base.fit(X_train, y_train)\n",
    "\n",
    "# Calculating training and testing scores: \n",
    "\n",
    "print(\"Baseline Train RMSE: \", rmse(base, X_train,y_train))\n",
    "print(\"Baseline Test RMSE: \", rmse(base, X_test,y_test))"
   ]
  },
  {
   "cell_type": "markdown",
   "metadata": {},
   "source": [
    "Our baseline model RMSE has a pretty large error, but this is the simplest model. Our other models should be an improvement from here. The lower test score indicates that our model is underfit."
   ]
  },
  {
   "cell_type": "markdown",
   "metadata": {},
   "source": [
    "#### Linear Regression"
   ]
  },
  {
   "cell_type": "code",
   "execution_count": 29,
   "metadata": {
    "scrolled": true
   },
   "outputs": [
    {
     "name": "stdout",
     "output_type": "stream",
     "text": [
      "Train RMSE: 50703.38416845333\n",
      "Test RMSE: 50119.979112096524\n"
     ]
    }
   ],
   "source": [
    "#instantiate model\n",
    "lr = LinearRegression()\n",
    "\n",
    "# fit model\n",
    "lr.fit(X_train, y_train)\n",
    "\n",
    "# Calculating training and testing scores: \n",
    "print(f'Train RMSE: {rmse(lr, X_train,y_train)}')\n",
    "print(f'Test RMSE: {rmse(lr, X_test,y_test)}')"
   ]
  },
  {
   "cell_type": "markdown",
   "metadata": {},
   "source": [
    "These values are much better than the baseline model. But our model seems still under fit."
   ]
  },
  {
   "cell_type": "markdown",
   "metadata": {},
   "source": [
    "#### Ridge Regression"
   ]
  },
  {
   "cell_type": "code",
   "execution_count": 65,
   "metadata": {
    "scrolled": false
   },
   "outputs": [
    {
     "data": {
      "text/plain": [
       "GridSearchCV(cv=5, error_score=nan,\n",
       "             estimator=Ridge(alpha=1.0, copy_X=True, fit_intercept=True,\n",
       "                             max_iter=None, normalize=False, random_state=2341,\n",
       "                             solver='auto', tol=0.001),\n",
       "             iid='deprecated', n_jobs=-1,\n",
       "             param_grid={'alpha': [0.001, 0.01, 0.1, 1, 10, 100, 1000, 10000],\n",
       "                         'max_iter': [None, 5, 10, 20]},\n",
       "             pre_dispatch='2*n_jobs', refit=True, return_train_score=False,\n",
       "             scoring=None, verbose=0)"
      ]
     },
     "execution_count": 65,
     "metadata": {},
     "output_type": "execute_result"
    }
   ],
   "source": [
    "# Instantiate model\n",
    "tuned_params = {'alpha': [ 0.001, 0.01, 0.1, 1, 10, 100, 1000, 10000],\n",
    "               'max_iter' : [None, 5, 10, 20] }\n",
    "\n",
    "# Instantiate model\n",
    "ridge_model = GridSearchCV(Ridge(random_state= RANDOM_STATE), tuned_params,  cv=5, n_jobs=-1)\n",
    "\n",
    "# Fit model\n",
    "ridge_model.fit(X_train_sc, y_train)"
   ]
  },
  {
   "cell_type": "markdown",
   "metadata": {},
   "source": [
    "Calculating training and testing scores also RMSE"
   ]
  },
  {
   "cell_type": "code",
   "execution_count": 69,
   "metadata": {
    "scrolled": true
   },
   "outputs": [
    {
     "name": "stdout",
     "output_type": "stream",
     "text": [
      "Ridge Model Train RMSE: 50706.056989274795\n",
      "Ridge Model Test RMSE: 50110.17360539728\n"
     ]
    }
   ],
   "source": [
    "print(f'Ridge Model Train RMSE: {rmse(ridge_model, X_train_sc, y_train)}')\n",
    "print(f'Ridge Model Test RMSE: {rmse(ridge_model, X_test_sc, y_test)}')\n"
   ]
  },
  {
   "cell_type": "markdown",
   "metadata": {},
   "source": [
    "After using ridge regularization, our train and test RMSE are not have that much improvement."
   ]
  },
  {
   "cell_type": "markdown",
   "metadata": {},
   "source": [
    "#### Lasso Regression"
   ]
  },
  {
   "cell_type": "code",
   "execution_count": 70,
   "metadata": {
    "scrolled": false
   },
   "outputs": [
    {
     "data": {
      "text/plain": [
       "GridSearchCV(cv=5, error_score=nan,\n",
       "             estimator=Lasso(alpha=1.0, copy_X=True, fit_intercept=True,\n",
       "                             max_iter=1000, normalize=False, positive=False,\n",
       "                             precompute=False, random_state=2341,\n",
       "                             selection='cyclic', tol=0.0001, warm_start=False),\n",
       "             iid='deprecated', n_jobs=-1,\n",
       "             param_grid={'alpha': [0.001, 0.01, 0.1, 1, 10, 100, 1000, 10000],\n",
       "                         'max_iter': [100, 1000, 10000]},\n",
       "             pre_dispatch='2*n_jobs', refit=True, return_train_score=False,\n",
       "             scoring=None, verbose=0)"
      ]
     },
     "execution_count": 70,
     "metadata": {},
     "output_type": "execute_result"
    }
   ],
   "source": [
    "#Tuning params\n",
    "tuned_params = {'alpha': [0.001, 0.01, 0.1, 1, 10, 100, 1000, 10000],\n",
    "              'max_iter' : [100, 1000, 10000]}\n",
    "\n",
    "# Instantiate model\n",
    "lasso = GridSearchCV(Lasso(random_state= RANDOM_STATE), tuned_params, cv=5, n_jobs=-1)\n",
    "\n",
    "# Fit model\n",
    "lasso.fit(X_train_sc, y_train)"
   ]
  },
  {
   "cell_type": "markdown",
   "metadata": {},
   "source": [
    "Calculating training and testing scores also RMSE"
   ]
  },
  {
   "cell_type": "code",
   "execution_count": 71,
   "metadata": {
    "scrolled": true
   },
   "outputs": [
    {
     "name": "stdout",
     "output_type": "stream",
     "text": [
      "Lasso Model Train RMSE: 51000.466795217115\n",
      "Lasso Model Test RMSE: 50185.85011708932\n"
     ]
    }
   ],
   "source": [
    "print(f'Lasso Model Train RMSE: {rmse(lasso, X_train_sc, y_train)}')\n",
    "print(f'Lasso Model Test RMSE: {rmse(lasso, X_test_sc, y_test)}')"
   ]
  },
  {
   "cell_type": "markdown",
   "metadata": {},
   "source": [
    "There is also not that kind of improvement we have here. This Lasso model seems worst than ridge."
   ]
  },
  {
   "cell_type": "markdown",
   "metadata": {},
   "source": [
    "#### Support Vector Regression"
   ]
  },
  {
   "cell_type": "code",
   "execution_count": 72,
   "metadata": {
    "scrolled": false
   },
   "outputs": [
    {
     "data": {
      "text/plain": [
       "GridSearchCV(cv=5, error_score=nan,\n",
       "             estimator=SVR(C=1.0, cache_size=200, coef0=0.0, degree=3,\n",
       "                           epsilon=0.1, gamma='scale', kernel='rbf',\n",
       "                           max_iter=-1, shrinking=True, tol=0.001,\n",
       "                           verbose=False),\n",
       "             iid='deprecated', n_jobs=-1,\n",
       "             param_grid={'C': [0.01, 0.1, 1, 10, 100, 1000, 10000],\n",
       "                         'gamma': [0.01, 0.1, 1, 10, 100, 1000, 10000]},\n",
       "             pre_dispatch='2*n_jobs', refit=True, return_train_score=False,\n",
       "             scoring=None, verbose=0)"
      ]
     },
     "execution_count": 72,
     "metadata": {},
     "output_type": "execute_result"
    }
   ],
   "source": [
    "#tuning params\n",
    "tuned_params = {'C': [ 0.01, 0.1, 1, 10, 100, 1000, 10000], \n",
    "                'gamma': [ 0.01, 0.1, 1, 10, 100, 1000, 10000]}\n",
    "\n",
    "# Instantiate model\n",
    "svr_model = GridSearchCV(SVR(), tuned_params, cv=5, n_jobs=-1)\n",
    "\n",
    "# Fit model\n",
    "svr_model.fit(X_train_sc, y_train)"
   ]
  },
  {
   "cell_type": "code",
   "execution_count": 54,
   "metadata": {
    "scrolled": true
   },
   "outputs": [
    {
     "data": {
      "text/plain": [
       "{'C': 10000, 'gamma': 0.01}"
      ]
     },
     "execution_count": 54,
     "metadata": {},
     "output_type": "execute_result"
    }
   ],
   "source": [
    "svr_model.best_params_"
   ]
  },
  {
   "cell_type": "markdown",
   "metadata": {},
   "source": [
    "Calculating training and testing scores also RMSE"
   ]
  },
  {
   "cell_type": "code",
   "execution_count": 73,
   "metadata": {
    "scrolled": false
   },
   "outputs": [
    {
     "name": "stdout",
     "output_type": "stream",
     "text": [
      "SVR Model Train RMSE: 51548.72728265739\n",
      "SVR Model Test RMSE: 51016.47412861592\n"
     ]
    }
   ],
   "source": [
    "print(f'SVR Model Train RMSE: {rmse(svr_model, X_train_sc, y_train)}')\n",
    "print(f'SVR Model Test RMSE: {rmse(svr_model, X_test_sc, y_test)}')"
   ]
  },
  {
   "cell_type": "markdown",
   "metadata": {},
   "source": [
    "Support Vector Model has high bias and low variance. This is still underfit model. And best parameters are C = 10000, and gamma = 0.01. Thus our model still needs more improvements."
   ]
  },
  {
   "cell_type": "markdown",
   "metadata": {},
   "source": [
    "#### Random Forest Regression"
   ]
  },
  {
   "cell_type": "code",
   "execution_count": 11,
   "metadata": {},
   "outputs": [
    {
     "data": {
      "text/plain": [
       "GridSearchCV(cv=5, error_score=nan,\n",
       "             estimator=RandomForestRegressor(bootstrap=True, ccp_alpha=0.0,\n",
       "                                             criterion='mse', max_depth=None,\n",
       "                                             max_features='auto',\n",
       "                                             max_leaf_nodes=None,\n",
       "                                             max_samples=None,\n",
       "                                             min_impurity_decrease=0.0,\n",
       "                                             min_impurity_split=None,\n",
       "                                             min_samples_leaf=1,\n",
       "                                             min_samples_split=2,\n",
       "                                             min_weight_fraction_leaf=0.0,\n",
       "                                             n_estimators=100, n_jobs=None,\n",
       "                                             oob_score=False, random_state=2341,\n",
       "                                             verbose=0, warm_start=False),\n",
       "             iid='deprecated', n_jobs=-1,\n",
       "             param_grid={'max_depth': [None, 3, 5, 7],\n",
       "                         'max_features': ['auto', 0.25, 0.02, 0.15],\n",
       "                         'max_samples': [None, 1, 3, 5, 7],\n",
       "                         'min_samples_leaf': [2, 4, 5],\n",
       "                         'min_samples_split': [5, 10, 15],\n",
       "                         'n_estimators': [300, 400, 450, 500]},\n",
       "             pre_dispatch='2*n_jobs', refit=True, return_train_score=False,\n",
       "             scoring=None, verbose=0)"
      ]
     },
     "execution_count": 11,
     "metadata": {},
     "output_type": "execute_result"
    }
   ],
   "source": [
    "#Tuning params\n",
    "tuned_params = {'n_estimators': [300, 400, 450, 500],\n",
    "                'min_samples_split': [5, 10, 15], \n",
    "                'min_samples_leaf': [ 2, 4, 5],\n",
    "               'max_depth' : [None, 3, 5, 7],\n",
    "                'max_features' : ['auto', .25, .02, .15],\n",
    "                 'max_samples' : [None, 1, 3, 5, 7]}\n",
    "\n",
    "# Instantiate model\n",
    "rf_model = GridSearchCV(RandomForestRegressor(random_state= RANDOM_STATE), tuned_params, cv=5, n_jobs=-1)\n",
    "\n",
    "# Fit model\n",
    "rf_model.fit(X_train_sc, y_train)"
   ]
  },
  {
   "cell_type": "code",
   "execution_count": 12,
   "metadata": {},
   "outputs": [
    {
     "data": {
      "text/plain": [
       "{'max_depth': None,\n",
       " 'max_features': 0.25,\n",
       " 'max_samples': None,\n",
       " 'min_samples_leaf': 2,\n",
       " 'min_samples_split': 15,\n",
       " 'n_estimators': 450}"
      ]
     },
     "execution_count": 12,
     "metadata": {},
     "output_type": "execute_result"
    }
   ],
   "source": [
    "rf_model.best_params_"
   ]
  },
  {
   "cell_type": "markdown",
   "metadata": {},
   "source": [
    "Calculating training and testing scores also RMSE"
   ]
  },
  {
   "cell_type": "code",
   "execution_count": 13,
   "metadata": {},
   "outputs": [
    {
     "name": "stdout",
     "output_type": "stream",
     "text": [
      "Random Forest Model Train RMSE: 42744.2735089099\n",
      "Random Forest Model Test RMSE: 49264.696703187255\n"
     ]
    }
   ],
   "source": [
    "print(f'Random Forest Model Train RMSE: {rmse(rf_model, X_train_sc, y_train)}')\n",
    "print(f'Random Forest Model Test RMSE: {rmse(rf_model, X_test_sc, y_test)}')"
   ]
  },
  {
   "cell_type": "markdown",
   "metadata": {},
   "source": [
    "Random Forest model has better train and test score. It has Comparably  low bais and high variance. These values are much better than the baseline model. Now our model seems over fit, but with a much huge margin between the test and the train RMSE. And Best parameters are max_depth = None, max_features = 0.25, max_samples = None, min_samples_leaf = 2, min_samples_split = 15, n_estimators = 450"
   ]
  },
  {
   "cell_type": "markdown",
   "metadata": {},
   "source": [
    "#### Decision Tree Regression"
   ]
  },
  {
   "cell_type": "code",
   "execution_count": 39,
   "metadata": {
    "scrolled": false
   },
   "outputs": [
    {
     "data": {
      "text/plain": [
       "GridSearchCV(cv=5, error_score=nan,\n",
       "             estimator=DecisionTreeRegressor(ccp_alpha=0.0, criterion='mse',\n",
       "                                             max_depth=None, max_features=None,\n",
       "                                             max_leaf_nodes=None,\n",
       "                                             min_impurity_decrease=0.0,\n",
       "                                             min_impurity_split=None,\n",
       "                                             min_samples_leaf=1,\n",
       "                                             min_samples_split=2,\n",
       "                                             min_weight_fraction_leaf=0.0,\n",
       "                                             presort='deprecated',\n",
       "                                             random_state=2341,\n",
       "                                             splitter='best'),\n",
       "             iid='deprecated', n_jobs=-1,\n",
       "             param_grid={'max_depth': [None, 3, 4, 5, 6, 7],\n",
       "                         'max_features': [None, 0.25, 0.5, 0.75],\n",
       "                         'min_samples_leaf': [5, 6, 7],\n",
       "                         'min_samples_split': [1, 2, 3]},\n",
       "             pre_dispatch='2*n_jobs', refit=True, return_train_score=False,\n",
       "             scoring=None, verbose=0)"
      ]
     },
     "execution_count": 39,
     "metadata": {},
     "output_type": "execute_result"
    }
   ],
   "source": [
    "#Tuning params\n",
    "tuned_params = {'min_samples_split': [1, 2, 3], \n",
    "                'min_samples_leaf': [5, 6, 7], \n",
    "                'max_depth': [None, 3, 4, 5, 6, 7],\n",
    "                'max_features' : [None, .25, .5, .75] }\n",
    "\n",
    "# Instantiate model\n",
    "dt_model = GridSearchCV(DecisionTreeRegressor(random_state= RANDOM_STATE), tuned_params, cv=5, n_jobs=-1)\n",
    "\n",
    "# Fit model\n",
    "dt_model.fit(X_train_sc, y_train)"
   ]
  },
  {
   "cell_type": "code",
   "execution_count": 65,
   "metadata": {},
   "outputs": [
    {
     "data": {
      "text/plain": [
       "{'max_depth': 4,\n",
       " 'max_features': 0.75,\n",
       " 'min_samples_leaf': 7,\n",
       " 'min_samples_split': 2}"
      ]
     },
     "execution_count": 65,
     "metadata": {},
     "output_type": "execute_result"
    }
   ],
   "source": [
    "dt_model.best_params_"
   ]
  },
  {
   "cell_type": "markdown",
   "metadata": {},
   "source": [
    "Calculating training and testing scores also RMSE"
   ]
  },
  {
   "cell_type": "code",
   "execution_count": 41,
   "metadata": {
    "scrolled": true
   },
   "outputs": [
    {
     "name": "stdout",
     "output_type": "stream",
     "text": [
      "Descision Tree Train Model RMSE: 50838.11955320181\n",
      "Descision Tree Test Model RMSE: 50360.80274930552\n"
     ]
    }
   ],
   "source": [
    "print(f'Descision Tree Train Model RMSE: {rmse(dt_model, X_train_sc, y_train)}')\n",
    "print(f'Descision Tree Test Model RMSE: {rmse(dt_model, X_test_sc, y_test)}')"
   ]
  },
  {
   "cell_type": "markdown",
   "metadata": {},
   "source": [
    "Decision Tree Model has high bias and low variance. This is underfit model with a much smaller margin between the test and the train RMSE. And best parameters are max_depth = 4, max_features=0.75, min_samples_leaf = 7, min_samples_split = 2."
   ]
  },
  {
   "cell_type": "markdown",
   "metadata": {},
   "source": [
    "#### Bagging Regressor"
   ]
  },
  {
   "cell_type": "code",
   "execution_count": 82,
   "metadata": {
    "scrolled": true
   },
   "outputs": [
    {
     "data": {
      "text/plain": [
       "GridSearchCV(cv=5, error_score=nan,\n",
       "             estimator=BaggingRegressor(base_estimator=None, bootstrap=True,\n",
       "                                        bootstrap_features=False,\n",
       "                                        max_features=1.0, max_samples=1.0,\n",
       "                                        n_estimators=10, n_jobs=None,\n",
       "                                        oob_score=False, random_state=2341,\n",
       "                                        verbose=0, warm_start=False),\n",
       "             iid='deprecated', n_jobs=-1,\n",
       "             param_grid={'base_estimator': [None, 50, 100],\n",
       "                         'max_features': [0.001, 0.5, 1.0, 1.5],\n",
       "                         'max_samples': [1, 2, 5, 10],\n",
       "                         'n_estimators': [10, 20, 30, 40]},\n",
       "             pre_dispatch='2*n_jobs', refit=True, return_train_score=False,\n",
       "             scoring=None, verbose=0)"
      ]
     },
     "execution_count": 82,
     "metadata": {},
     "output_type": "execute_result"
    }
   ],
   "source": [
    "#Tuning params\n",
    "tuned_params = {'base_estimator' : [None, 50, 100],\n",
    "               'n_estimators' : [10, 20, 30, 40],\n",
    "               'max_samples' : [1, 2, 5, 10],\n",
    "                 'max_features' : [.001, .5, 1.0, 1.5]}\n",
    "\n",
    "# Instantiate model\n",
    "bagged = GridSearchCV(BaggingRegressor(random_state= RANDOM_STATE), \n",
    "                      param_grid=tuned_params, cv=5, n_jobs=-1)\n",
    "# Fit model\n",
    "bagged.fit(X_train_sc, y_train)"
   ]
  },
  {
   "cell_type": "code",
   "execution_count": 83,
   "metadata": {},
   "outputs": [
    {
     "data": {
      "text/plain": [
       "{'base_estimator': None,\n",
       " 'max_features': 1.0,\n",
       " 'max_samples': 10,\n",
       " 'n_estimators': 40}"
      ]
     },
     "execution_count": 83,
     "metadata": {},
     "output_type": "execute_result"
    }
   ],
   "source": [
    "bagged.best_params_"
   ]
  },
  {
   "cell_type": "markdown",
   "metadata": {},
   "source": [
    "Calculating training and testing scores also RMSE"
   ]
  },
  {
   "cell_type": "code",
   "execution_count": 85,
   "metadata": {},
   "outputs": [
    {
     "name": "stdout",
     "output_type": "stream",
     "text": [
      "Bagging Regressor Model Train RMSE: 52760.321670041485\n",
      "Bagging Regressor Model Test RMSE: 51555.87489480349\n"
     ]
    }
   ],
   "source": [
    "print(f'Bagging Regressor Model Train RMSE: {rmse(bagged, X_train_sc, y_train)}')\n",
    "print(f'Bagging Regressor Model Test RMSE: {rmse(bagged, X_test_sc, y_test)}')"
   ]
  },
  {
   "cell_type": "markdown",
   "metadata": {},
   "source": [
    "Bagging Regressor has high  bias and variance.Thus our model is underfit with a much huge margin between the test and the train RMSE. The best parameters are base_estimator= None, max_features = 1.0, max_samples = 10, n_estimators = 40."
   ]
  },
  {
   "cell_type": "markdown",
   "metadata": {},
   "source": [
    "#### AdaBoost Regressor Model"
   ]
  },
  {
   "cell_type": "code",
   "execution_count": 42,
   "metadata": {},
   "outputs": [
    {
     "data": {
      "text/plain": [
       "GridSearchCV(cv=5, error_score=nan,\n",
       "             estimator=AdaBoostRegressor(base_estimator=None, learning_rate=1.0,\n",
       "                                         loss='linear', n_estimators=50,\n",
       "                                         random_state=2341),\n",
       "             iid='deprecated', n_jobs=-1,\n",
       "             param_grid={'learning_rate': [0.001, 1e-05, 0.002, 0.05, 0.1],\n",
       "                         'n_estimators': [5, 8, 10, 20, 30]},\n",
       "             pre_dispatch='2*n_jobs', refit=True, return_train_score=False,\n",
       "             scoring=None, verbose=0)"
      ]
     },
     "execution_count": 42,
     "metadata": {},
     "output_type": "execute_result"
    }
   ],
   "source": [
    "#Tuning params\n",
    "tuned_params = {'learning_rate': [.001, 0.00001, .002, 0.05, 0.1], \n",
    "                'n_estimators': [5, 8, 10, 20, 30], \n",
    "                }\n",
    "\n",
    "# Instantiate model\n",
    "ada_model = GridSearchCV(AdaBoostRegressor(random_state= RANDOM_STATE),\n",
    "                         param_grid=tuned_params, cv=5, n_jobs=-1)\n",
    "\n",
    "# Fit model\n",
    "ada_model.fit(X_train_sc, y_train)"
   ]
  },
  {
   "cell_type": "code",
   "execution_count": 43,
   "metadata": {},
   "outputs": [
    {
     "data": {
      "text/plain": [
       "{'learning_rate': 0.001, 'n_estimators': 20}"
      ]
     },
     "execution_count": 43,
     "metadata": {},
     "output_type": "execute_result"
    }
   ],
   "source": [
    "ada_model.best_params_"
   ]
  },
  {
   "cell_type": "markdown",
   "metadata": {},
   "source": [
    "Calculating training and testing scores also RMSE"
   ]
  },
  {
   "cell_type": "code",
   "execution_count": 44,
   "metadata": {},
   "outputs": [
    {
     "name": "stdout",
     "output_type": "stream",
     "text": [
      "AdaBoostRegressor Model Train RMSE: 52109.07167753531\n",
      "AdaBoostRegressor Model Test RMSE: 51229.829832992844\n"
     ]
    }
   ],
   "source": [
    "print(f'AdaBoostRegressor Model Train RMSE: {rmse(ada_model, X_train_sc, y_train)}')\n",
    "print(f'AdaBoostRegressor Model Test RMSE: {rmse(ada_model, X_test_sc, y_test)}')"
   ]
  },
  {
   "cell_type": "markdown",
   "metadata": {},
   "source": [
    "AdaBoost Regressor Model has the worst train and test score with a much huge margin between the test and the train RMSE. we had best parameters are n_estimators = 20, learning_rate = 0.001."
   ]
  },
  {
   "cell_type": "markdown",
   "metadata": {},
   "source": [
    "#### Gradient Boosting Regressor Model"
   ]
  },
  {
   "cell_type": "code",
   "execution_count": 8,
   "metadata": {},
   "outputs": [
    {
     "data": {
      "text/plain": [
       "GridSearchCV(cv=5, error_score=nan,\n",
       "             estimator=GradientBoostingRegressor(alpha=0.9, ccp_alpha=0.0,\n",
       "                                                 criterion='friedman_mse',\n",
       "                                                 init=None, learning_rate=0.1,\n",
       "                                                 loss='ls', max_depth=3,\n",
       "                                                 max_features=None,\n",
       "                                                 max_leaf_nodes=None,\n",
       "                                                 min_impurity_decrease=0.0,\n",
       "                                                 min_impurity_split=None,\n",
       "                                                 min_samples_leaf=1,\n",
       "                                                 min_samples_split=2,\n",
       "                                                 min_weight_fraction_leaf=0.0,\n",
       "                                                 n_estimators=100,\n",
       "                                                 n_iter_n...\n",
       "                                                 validation_fraction=0.1,\n",
       "                                                 verbose=0, warm_start=False),\n",
       "             iid='deprecated', n_jobs=-1,\n",
       "             param_grid={'alpha': [0.9], 'learning_rate': [0.01, 0.1, 0.2],\n",
       "                         'max_depth': [None, 3, 5, 7],\n",
       "                         'max_features': ['auto', 0.25, 0.5, 0.75, None],\n",
       "                         'min_samples_leaf': [1, 2, 4, 5],\n",
       "                         'min_samples_split': [5, 10, 15],\n",
       "                         'n_estimators': [20, 50, 70]},\n",
       "             pre_dispatch='2*n_jobs', refit=True, return_train_score=False,\n",
       "             scoring=None, verbose=0)"
      ]
     },
     "execution_count": 8,
     "metadata": {},
     "output_type": "execute_result"
    }
   ],
   "source": [
    "#Tuning params\n",
    "tuned_params = {'learning_rate': [0.01, 0.1, 0.2], \n",
    "                'n_estimators': [20, 50, 70], \n",
    "               'max_depth' : [None, 3, 5, 7],\n",
    "               'max_features' : ['auto', .25, .5, .75, None],\n",
    "                'min_samples_split': [5, 10, 15], \n",
    "                'min_samples_leaf': [1, 2, 4, 5],\n",
    "               'alpha': [0.9]}\n",
    "\n",
    "\n",
    "# Instantiate model\n",
    "gradient_model = GridSearchCV(GradientBoostingRegressor(random_state= RANDOM_STATE),\n",
    "                         param_grid=tuned_params, cv=5, n_jobs=-1)\n",
    "\n",
    "# Fit model\n",
    "gradient_model.fit(X_train_sc, y_train)"
   ]
  },
  {
   "cell_type": "code",
   "execution_count": 9,
   "metadata": {
    "scrolled": true
   },
   "outputs": [
    {
     "data": {
      "text/plain": [
       "{'alpha': 0.9,\n",
       " 'learning_rate': 0.1,\n",
       " 'max_depth': 3,\n",
       " 'max_features': 0.25,\n",
       " 'min_samples_leaf': 1,\n",
       " 'min_samples_split': 5,\n",
       " 'n_estimators': 70}"
      ]
     },
     "execution_count": 9,
     "metadata": {},
     "output_type": "execute_result"
    }
   ],
   "source": [
    "gradient_model.best_params_"
   ]
  },
  {
   "cell_type": "markdown",
   "metadata": {},
   "source": [
    "Calculating training and testing scores also RMSE"
   ]
  },
  {
   "cell_type": "code",
   "execution_count": 10,
   "metadata": {},
   "outputs": [
    {
     "name": "stdout",
     "output_type": "stream",
     "text": [
      "Gradient Regressor Model Train RMSE: 44523.41733157255\n",
      "Gradient Regressor Model Test RMSE: 49570.674646423344\n"
     ]
    }
   ],
   "source": [
    "print(f'Gradient Regressor Model Train RMSE: {rmse(gradient_model, X_train_sc, y_train)}')\n",
    "print(f'Gradient Regressor Model Test RMSE: {rmse(gradient_model, X_test_sc, y_test)}')"
   ]
  },
  {
   "cell_type": "markdown",
   "metadata": {},
   "source": [
    "Gradient Boosting Regressor model has better train and test score. It has Comparably low bais and high variance. These values are much better than the baseline model. Now our model seems over fit, but with a much smaller margin between the test and the train RMSE. And Best parameters are alpha = 0.9, learning_rate =0.1, max_depth = 3, max_features = 0.25, min_samples_leaf = 1, min_samples_split = 5, n_estimators = 70"
   ]
  },
  {
   "cell_type": "markdown",
   "metadata": {},
   "source": [
    "### Model Selection"
   ]
  },
  {
   "cell_type": "markdown",
   "metadata": {},
   "source": [
    "#### Compare all Models"
   ]
  },
  {
   "cell_type": "markdown",
   "metadata": {},
   "source": [
    "|         **Model's**       | **Train Score RMSE** | **Test Score RMSE** | difference |\n",
    "|:-------------------------:|:--------------------:|:-------------------:|------------|\n",
    "| Baseline Model            |       57965.30       |       57179.03      | 786        |\n",
    "| Linear Regression         |       50703.38       |       50119.97      | 584        |\n",
    "| Ridge Regression          |       50706.05       |       50110.17      | 596        |\n",
    "| Lasso Regression          |       51000.46       |       50185.85      | 815        |\n",
    "| Support Vector Regression |       51548.72       |       51016.47      | 532        |\n",
    "| Random Forest Regression  |       42744.27       |       49264.69      | -6520      |\n",
    "| Descision Tree Regression |       50838.11       |       50360.80      | 478         |\n",
    "| Bagging Regressor         |       52760.32       |       51555.87      | 1205       |\n",
    "| AdaBoost Regressor Model  |       52109.07       |       51229.82      | 880        |\n",
    "| Gradient Regressor Model  |       44523.41       |       49570.67      | -5047      |"
   ]
  },
  {
   "cell_type": "markdown",
   "metadata": {},
   "source": [
    "We would pick Gradient Boosting Regressor model because although it did not have the best RMSE score on the testing data, the gap between the train and test score is amongst the smallest of all the models.So Gradient Boosting Regressor model, indicating that this is our best model to select for this data. We can interpret RMSE as the error  on average by which our predictions are off."
   ]
  },
  {
   "cell_type": "markdown",
   "metadata": {},
   "source": [
    "### Model Evaluation"
   ]
  },
  {
   "cell_type": "markdown",
   "metadata": {},
   "source": [
    "#### Feature Importance"
   ]
  },
  {
   "cell_type": "markdown",
   "metadata": {},
   "source": [
    "Building the best model again with the best hyperparameters"
   ]
  },
  {
   "cell_type": "code",
   "execution_count": 59,
   "metadata": {},
   "outputs": [
    {
     "data": {
      "text/plain": [
       "GradientBoostingRegressor(alpha=0.9, ccp_alpha=0.0, criterion='friedman_mse',\n",
       "                          init=None, learning_rate=0.1, loss='ls', max_depth=3,\n",
       "                          max_features=None, max_leaf_nodes=None,\n",
       "                          min_impurity_decrease=0.0, min_impurity_split=None,\n",
       "                          min_samples_leaf=1, min_samples_split=2,\n",
       "                          min_weight_fraction_leaf=0.0, n_estimators=50,\n",
       "                          n_iter_no_change=None, presort='deprecated',\n",
       "                          random_state=2341, subsample=1.0, tol=0.0001,\n",
       "                          validation_fraction=0.1, verbose=0, warm_start=False)"
      ]
     },
     "execution_count": 59,
     "metadata": {},
     "output_type": "execute_result"
    }
   ],
   "source": [
    "best_model = GradientBoostingRegressor(alpha = 0.9, learning_rate = 0.1, n_estimators = 50 , random_state=RANDOM_STATE)\n",
    "\n",
    "best_model.fit(X_train_sc, y_train)"
   ]
  },
  {
   "cell_type": "code",
   "execution_count": 60,
   "metadata": {
    "scrolled": true
   },
   "outputs": [],
   "source": [
    "model_feature = pd.DataFrame(best_model.feature_importances_, index = X.columns)"
   ]
  },
  {
   "cell_type": "code",
   "execution_count": 61,
   "metadata": {
    "scrolled": false
   },
   "outputs": [
    {
     "data": {
      "text/html": [
       "<div>\n",
       "<style scoped>\n",
       "    .dataframe tbody tr th:only-of-type {\n",
       "        vertical-align: middle;\n",
       "    }\n",
       "\n",
       "    .dataframe tbody tr th {\n",
       "        vertical-align: top;\n",
       "    }\n",
       "\n",
       "    .dataframe thead th {\n",
       "        text-align: right;\n",
       "    }\n",
       "</style>\n",
       "<table border=\"1\" class=\"dataframe\">\n",
       "  <thead>\n",
       "    <tr style=\"text-align: right;\">\n",
       "      <th></th>\n",
       "      <th>0</th>\n",
       "    </tr>\n",
       "  </thead>\n",
       "  <tbody>\n",
       "    <tr>\n",
       "      <th>Country</th>\n",
       "      <td>0.294937</td>\n",
       "    </tr>\n",
       "    <tr>\n",
       "      <th>YearsWithThisDatabase</th>\n",
       "      <td>0.174897</td>\n",
       "    </tr>\n",
       "    <tr>\n",
       "      <th>EmploymentStatus_Part time</th>\n",
       "      <td>0.100048</td>\n",
       "    </tr>\n",
       "    <tr>\n",
       "      <th>HoursWorkedPerWeek</th>\n",
       "      <td>0.062700</td>\n",
       "    </tr>\n",
       "    <tr>\n",
       "      <th>EducationIsComputerRelated_No</th>\n",
       "      <td>0.048618</td>\n",
       "    </tr>\n",
       "    <tr>\n",
       "      <th>PrimaryDatabase_Amazon RDS (any flavor)</th>\n",
       "      <td>0.046959</td>\n",
       "    </tr>\n",
       "    <tr>\n",
       "      <th>EmploymentStatus_Independent consultant, contractor, freelancer,  or company owner</th>\n",
       "      <td>0.045682</td>\n",
       "    </tr>\n",
       "    <tr>\n",
       "      <th>Education</th>\n",
       "      <td>0.029842</td>\n",
       "    </tr>\n",
       "    <tr>\n",
       "      <th>JobTitle_Engineer</th>\n",
       "      <td>0.027950</td>\n",
       "    </tr>\n",
       "    <tr>\n",
       "      <th>ManageStaff</th>\n",
       "      <td>0.024922</td>\n",
       "    </tr>\n",
       "    <tr>\n",
       "      <th>EmploymentStatus_Full time employee</th>\n",
       "      <td>0.018493</td>\n",
       "    </tr>\n",
       "    <tr>\n",
       "      <th>JobTitle_Developer: Business Intelligence (SSRS, PowerBI, etc)</th>\n",
       "      <td>0.017993</td>\n",
       "    </tr>\n",
       "    <tr>\n",
       "      <th>EmploymentStatus_Independent or freelancer or company owner</th>\n",
       "      <td>0.017349</td>\n",
       "    </tr>\n",
       "    <tr>\n",
       "      <th>JobTitle_Architect</th>\n",
       "      <td>0.017322</td>\n",
       "    </tr>\n",
       "    <tr>\n",
       "      <th>YearsWithThisTypeOfJob</th>\n",
       "      <td>0.014927</td>\n",
       "    </tr>\n",
       "    <tr>\n",
       "      <th>CareerPlansThisYear_Stay with the same employer,  but change roles</th>\n",
       "      <td>0.011971</td>\n",
       "    </tr>\n",
       "  </tbody>\n",
       "</table>\n",
       "</div>"
      ],
      "text/plain": [
       "                                                           0\n",
       "Country                                             0.294937\n",
       "YearsWithThisDatabase                               0.174897\n",
       "EmploymentStatus_Part time                          0.100048\n",
       "HoursWorkedPerWeek                                  0.062700\n",
       "EducationIsComputerRelated_No                       0.048618\n",
       "PrimaryDatabase_Amazon RDS (any flavor)             0.046959\n",
       "EmploymentStatus_Independent consultant, contra...  0.045682\n",
       "Education                                           0.029842\n",
       "JobTitle_Engineer                                   0.027950\n",
       "ManageStaff                                         0.024922\n",
       "EmploymentStatus_Full time employee                 0.018493\n",
       "JobTitle_Developer: Business Intelligence (SSRS...  0.017993\n",
       "EmploymentStatus_Independent or freelancer or c...  0.017349\n",
       "JobTitle_Architect                                  0.017322\n",
       "YearsWithThisTypeOfJob                              0.014927\n",
       "CareerPlansThisYear_Stay with the same employer...  0.011971"
      ]
     },
     "execution_count": 61,
     "metadata": {},
     "output_type": "execute_result"
    }
   ],
   "source": [
    "model_feature[abs(model_feature[0]) > .009].sort_values(by=0, ascending=False)"
   ]
  },
  {
   "cell_type": "markdown",
   "metadata": {},
   "source": [
    "Thus these are the important features from our datasets which are dependent on Salary. let us plot them in a barh plot."
   ]
  },
  {
   "cell_type": "markdown",
   "metadata": {},
   "source": [
    "#### Ploting Important features"
   ]
  },
  {
   "cell_type": "code",
   "execution_count": 62,
   "metadata": {},
   "outputs": [
    {
     "data": {
      "image/png": "[encoded data removed]",
      "text/plain": [
       "<Figure size 1080x1440 with 1 Axes>"
      ]
     },
     "metadata": {},
     "output_type": "display_data"
    }
   ],
   "source": [
    "plt.figure(figsize= (15, 20))\n",
    "plt.title('Important Features of Best Model', fontsize= 25, pad = 10)\n",
    "plt.xlabel('Frequency of Feature', fontsize = 15)\n",
    "plt.ylabel('Features', fontsize = 15)\n",
    "(pd.Series(best_model.feature_importances_, index=X.columns)\n",
    "   .nlargest(15)\n",
    "   .plot(kind='barh'));  "
   ]
  },
  {
   "cell_type": "markdown",
   "metadata": {},
   "source": [
    "Here **Country, YearsWithThisDatabase, EmploymentStatus_Part time, HoursWorkedPerWeek, EducationIsComputerRelated_No, PrimaryDatabase_Amazon RDS (any flavor), EmploymentStatus_Independent consultant, contractor, freelancer, or company owner, Education, JobTitle_Engineer** are the most important features that are related to target column SalaryUSD. We can see the presence of some unexpected variables too.\n",
    "<br>\n",
    "From this model, women can get an idea about the feature they should know or study before negotiating their salary. even they will get to know that are they will offering fairly or not."
   ]
  },
  {
   "cell_type": "markdown",
   "metadata": {},
   "source": [
    "### Conclusions and Recommendations"
   ]
  },
  {
   "cell_type": "markdown",
   "metadata": {},
   "source": [
    "Our Gradient Boosting Regressor was able to give us the most successful RMSE scores and was selected as the best model to help solve the problem.\n",
    "<br>\n",
    "<br>\n",
    "Negotiating salary isn’t easy, and it can be especially difficult for women. In general, women are less likely to ask for more money when they are offered a job and more likely to stay in a lower paid job. Reasons vary, but some of it involves being uncomfortable discussing salary and being hesitant to ask for more.\n",
    "<br>\n",
    "<br>\n",
    "Some experts believe one should always negotiate salary and ask for more money. Before one do that though, it’s a good idea to research the job and the employer to be sure that the compensation package is negotiable. There are some positions where the pay rate is set in advance. On the plus side, there won’t be gender discrimination because everyone is paid the same. On the negative side, what you are offered is what you will be paid.Our model will help Women of the United State to know what should they research for, how much they can get hourly in which job or title of the job, how much their education is necessary to have a better salary."
   ]
  },
  {
   "cell_type": "markdown",
   "metadata": {},
   "source": [
    "### Reference "
   ]
  },
  {
   "cell_type": "markdown",
   "metadata": {},
   "source": [
    "https://data.world/finance/data-professional-salary-survey/workspace/file?filename=2019_Data_Professional_Salary_Survey_Responses.xlsx"
   ]
  }
 ],
 "metadata": {
  "kernelspec": {
   "display_name": "Python 3",
   "language": "python",
   "name": "python3"
  },
  "language_info": {
   "codemirror_mode": {
    "name": "ipython",
    "version": 3
   },
   "file_extension": ".py",
   "mimetype": "text/x-python",
   "name": "python",
   "nbconvert_exporter": "python",
   "pygments_lexer": "ipython3",
   "version": "3.7.6"
  }
 },
 "nbformat": 4,
 "nbformat_minor": 4
}
